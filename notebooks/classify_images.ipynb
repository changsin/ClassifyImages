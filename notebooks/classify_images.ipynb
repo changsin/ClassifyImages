{
  "nbformat": 4,
  "nbformat_minor": 0,
  "metadata": {
    "colab": {
      "name": "face_detection.ipynb",
      "provenance": [],
      "collapsed_sections": [],
      "include_colab_link": true
    },
    "kernelspec": {
      "name": "python3",
      "display_name": "Python 3"
    }
  },
  "cells": [
    {
      "cell_type": "markdown",
      "metadata": {
        "id": "view-in-github",
        "colab_type": "text"
      },
      "source": [
        "<a href=\"https://colab.research.google.com/github/changsin/ClassifyImages/blob/main/notebooks/classify_images.ipynb\" target=\"_parent\"><img src=\"https://colab.research.google.com/assets/colab-badge.svg\" alt=\"Open In Colab\"/></a>"
      ]
    },
    {
      "cell_type": "markdown",
      "metadata": {
        "id": "rJqqaJiw1uXp"
      },
      "source": [
        "# Classify road conditions\n",
        "\n",
        "## Histogram\n",
        "\n",
        "A simple way to classify based on pixel value average: https://youtu.be/dfcrYIu5LNo\n"
      ]
    },
    {
      "cell_type": "code",
      "metadata": {
        "id": "k43ny9oXqjgX"
      },
      "source": [
        "import cv2\n",
        "\n",
        "image_day = cv2.imread('Suwon_highway1.png', cv2.IMREAD_GRAYSCALE)\n",
        "image_night = cv2.imread('highway_night.jfif', cv2.IMREAD_GRAYSCALE)\n",
        "image_dawn = cv2.imread('highway_dawn.jfif', cv2.IMREAD_GRAYSCALE)\n",
        "image_rainy = cv2.imread('highway_rainy.jpg', cv2.IMREAD_GRAYSCALE)\n",
        "image_rainyday = cv2.imread('highway_rainyday.jpg', cv2.IMREAD_GRAYSCALE)\n",
        "image_rainynight = cv2.imread('highway_rainynight.jpg', cv2.IMREAD_GRAYSCALE)"
      ],
      "execution_count": 66,
      "outputs": []
    },
    {
      "cell_type": "code",
      "metadata": {
        "id": "u9EpmhWkr0LV"
      },
      "source": [
        "hist_day = cv2.calcHist([image_day], [0], None, [256], [0, 256])\n",
        "hist_night = cv2.calcHist([image_night], [0], None, [256], [0, 256])\n",
        "hist_dawn = cv2.calcHist([image_dawn], [0], None, [256], [0, 256])\n",
        "hist_rainy = cv2.calcHist([image_rainy], [0], None, [256], [0, 256])\n",
        "hist_rainyday = cv2.calcHist([image_rainyday], [0], None, [256], [0, 256])\n",
        "hist_rainynight = cv2.calcHist([image_rainynight], [0], None, [256], [0, 256])"
      ],
      "execution_count": 67,
      "outputs": []
    },
    {
      "cell_type": "code",
      "metadata": {
        "id": "KyYYynHJs9-f",
        "outputId": "c0f0ffbe-55a4-4fd7-9f18-2d2ab8a234c8",
        "colab": {
          "base_uri": "https://localhost:8080/",
          "height": 1000
        }
      },
      "source": [
        "plt.hist(hist_day, 256, [0, 256]); plt.show()\n",
        "plt.hist(hist_night, 256, [0, 256]); plt.show()\n",
        "plt.hist(hist_dawn, 256, [0, 256]); plt.show()\n",
        "plt.hist(hist_rainy, 256, [0, 256]); plt.show()\n",
        "plt.hist(hist_rainyday, 256, [0, 256]); plt.show()\n",
        "plt.hist(hist_rainynight, 256, [0, 256]); plt.show()"
      ],
      "execution_count": 68,
      "outputs": [
        {
          "output_type": "display_data",
          "data": {
            "image/png": "[encoded data removed]",
            "text/plain": [
              "<Figure size 432x288 with 1 Axes>"
            ]
          },
          "metadata": {
            "tags": [],
            "needs_background": "light"
          }
        },
        {
          "output_type": "display_data",
          "data": {
            "image/png": "[encoded data removed]",
            "text/plain": [
              "<Figure size 432x288 with 1 Axes>"
            ]
          },
          "metadata": {
            "tags": [],
            "needs_background": "light"
          }
        },
        {
          "output_type": "display_data",
          "data": {
            "image/png": "[encoded data removed]",
            "text/plain": [
              "<Figure size 432x288 with 1 Axes>"
            ]
          },
          "metadata": {
            "tags": [],
            "needs_background": "light"
          }
        },
        {
          "output_type": "display_data",
          "data": {
            "image/png": "[encoded data removed]",
            "text/plain": [
              "<Figure size 432x288 with 1 Axes>"
            ]
          },
          "metadata": {
            "tags": [],
            "needs_background": "light"
          }
        },
        {
          "output_type": "display_data",
          "data": {
            "image/png": "[encoded data removed]",
            "text/plain": [
              "<Figure size 432x288 with 1 Axes>"
            ]
          },
          "metadata": {
            "tags": [],
            "needs_background": "light"
          }
        },
        {
          "output_type": "display_data",
          "data": {
            "image/png": "[encoded data removed]",
            "text/plain": [
              "<Figure size 432x288 with 1 Axes>"
            ]
          },
          "metadata": {
            "tags": [],
            "needs_background": "light"
          }
        }
      ]
    },
    {
      "cell_type": "code",
      "metadata": {
        "id": "YRf8EGdtxaCa"
      },
      "source": [
        "import numpy as np\n",
        "\n",
        "def get_hist_num(image):\n",
        "  return np.sum(image)/(image.shape[0]*image.shape[1])"
      ],
      "execution_count": 34,
      "outputs": []
    },
    {
      "cell_type": "code",
      "metadata": {
        "id": "0i31yYtJG4t_",
        "outputId": "4d1d2e74-3a30-45a0-8333-9a8355c98b8c",
        "colab": {
          "base_uri": "https://localhost:8080/"
        }
      },
      "source": [
        "print(np.sum(image_day))\n",
        "print(np.sum(image_night))"
      ],
      "execution_count": 73,
      "outputs": [
        {
          "output_type": "stream",
          "text": [
            "223766065\n",
            "3527294\n"
          ],
          "name": "stdout"
        }
      ]
    },
    {
      "cell_type": "code",
      "metadata": {
        "id": "SnsR8gaAHMHm",
        "outputId": "a689a42f-1513-4b72-8e92-4c47388e4bad",
        "colab": {
          "base_uri": "https://localhost:8080/"
        }
      },
      "source": [
        "print(np.sum(hist_day))\n",
        "print(np.sum(hist_night))"
      ],
      "execution_count": 77,
      "outputs": [
        {
          "output_type": "stream",
          "text": [
            "2073600.0\n",
            "50400.0\n"
          ],
          "name": "stdout"
        }
      ]
    },
    {
      "cell_type": "code",
      "metadata": {
        "id": "ItK7vwgOyTKj",
        "outputId": "49f1699d-42c4-4554-b314-033b134b44dc",
        "colab": {
          "base_uri": "https://localhost:8080/"
        }
      },
      "source": [
        "print(\"day: {:.02f}\".format(get_hist_num(image_day)))\n",
        "print(\"night: {:.02f}\".format(get_hist_num(image_night)))\n",
        "print(\"dawn: {:.02f}\".format(get_hist_num(image_dawn)))\n",
        "print(\"rainy: {:.02f}\".format(get_hist_num(image_rainy)))\n",
        "print(\"rainy day: {:.02f}\".format(get_hist_num(image_rainyday)))\n",
        "print(\"rainy night: {:.02f}\".format(get_hist_num(image_rainynight)))"
      ],
      "execution_count": 69,
      "outputs": [
        {
          "output_type": "stream",
          "text": [
            "day: 107.91\n",
            "night: 69.99\n",
            "dawn: 98.60\n",
            "rainy: 171.73\n",
            "rainy day: 116.77\n",
            "rainy night: 75.32\n"
          ],
          "name": "stdout"
        }
      ]
    },
    {
      "cell_type": "code",
      "metadata": {
        "id": "WwhQnzoHsWi4",
        "outputId": "8ec9cada-c529-4d87-94fd-6ff425202dec",
        "colab": {
          "base_uri": "https://localhost:8080/",
          "height": 1000
        }
      },
      "source": [
        "import matplotlib.pyplot as plt\n",
        "\n",
        "\n",
        "plt.hist(image_day.ravel(),256,[0,256]); plt.show()\n",
        "plt.hist(image_night.ravel(),256,[0,256]); plt.show()\n",
        "plt.hist(image_dawn.ravel(),256,[0,256]); plt.show()\n",
        "plt.hist(image_rainy.ravel(),256,[0,256]); plt.show()"
      ],
      "execution_count": 41,
      "outputs": [
        {
          "output_type": "display_data",
          "data": {
            "image/png": "[encoded data removed]",
            "text/plain": [
              "<Figure size 432x288 with 1 Axes>"
            ]
          },
          "metadata": {
            "tags": [],
            "needs_background": "light"
          }
        },
        {
          "output_type": "display_data",
          "data": {
            "image/png": "[encoded data removed]",
            "text/plain": [
              "<Figure size 432x288 with 1 Axes>"
            ]
          },
          "metadata": {
            "tags": [],
            "needs_background": "light"
          }
        },
        {
          "output_type": "display_data",
          "data": {
            "image/png": "[encoded data removed]",
            "text/plain": [
              "<Figure size 432x288 with 1 Axes>"
            ]
          },
          "metadata": {
            "tags": [],
            "needs_background": "light"
          }
        },
        {
          "output_type": "display_data",
          "data": {
            "image/png": "[encoded data removed]",
            "text/plain": [
              "<Figure size 432x288 with 1 Axes>"
            ]
          },
          "metadata": {
            "tags": [],
            "needs_background": "light"
          }
        }
      ]
    }
  ]
}