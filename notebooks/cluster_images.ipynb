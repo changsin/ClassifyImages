{
  "nbformat": 4,
  "nbformat_minor": 0,
  "metadata": {
    "colab": {
      "name": "cluster_images.ipynb",
      "provenance": [],
      "toc_visible": true,
      "machine_shape": "hm",
      "authorship_tag": "ABX9TyPrGykmINlOWUV0Z5H+pzaF",
      "include_colab_link": true
    },
    "kernelspec": {
      "name": "python3",
      "display_name": "Python 3"
    },
    "language_info": {
      "name": "python"
    },
    "accelerator": "GPU"
  },
  "cells": [
    {
      "cell_type": "markdown",
      "metadata": {
        "id": "view-in-github",
        "colab_type": "text"
      },
      "source": [
        "<a href=\"https://colab.research.google.com/github/changsin/ClassifyImages/blob/main/notebooks/cluster_images.ipynb\" target=\"_parent\"><img src=\"https://colab.research.google.com/assets/colab-badge.svg\" alt=\"Open In Colab\"/></a>"
      ]
    },
    {
      "cell_type": "markdown",
      "metadata": {
        "id": "l3IR2E-4bPaO"
      },
      "source": [
        "# Clustering Images\n",
        "\n",
        "Clustering is a popular unsupervised learning algorithm often used in preprocessing data. To cluster similar items in the same group, two things are needed:\n",
        "\n",
        "1. Features: Features are decided according to data types and purposes. Regardless of data type and features, they all need to be represented in vectors.\n",
        "2. Distance functions: once the features are decided and converted into vector forms, you have to decide which distance function you want to use to measure the distance between two feature vectors. Popular distance functions are: Euclidean, Cosine, Manhattan, and Hamming.\n",
        "\n",
        "In our case, the data types are images so we can use either pixel values or structures in images. For distance functions, we will try Euclidean and Cosine functions to compare the differences. "
      ]
    },
    {
      "cell_type": "markdown",
      "metadata": {
        "id": "CvW0eEHDp2xe"
      },
      "source": [
        "# The Datasets\n",
        "We will use three sample datasets.\n",
        "\n",
        "### 1. Night and day images\n",
        "We have two datasets: daytime and nighttime highway images and vehicle images downloaded from [unsplash](https://unsplash.com/):\n",
        "\n",
        "- 5 daytime image\n",
        "- 5 nighttime images)\n",
        "\n",
        "### 2. Highway surveillance camera images\n",
        "These pictures are taken from a highway CCTV camera with two settings:\n",
        "\n",
        "- Zoom-in\n",
        "- Zoom-out\n",
        "\n",
        "### 3 Vehicle images\n",
        "For a more challenging experiment, I downloaded sixteen vehicle images from [unsplash](https://unsplash.com/).\n",
        "\n",
        "- 8 VW Microbus\n",
        "- 8 VW Beetles\n",
        "\n",
        "Ideally, we want to see Microbuses and Beetles to belong to their own clusters. Let's see if we can do that through clustering."
      ]
    },
    {
      "cell_type": "markdown",
      "metadata": {
        "id": "JuCA5VSdq7Re"
      },
      "source": [
        "The sample data downloaded and resized to be included in this repository."
      ]
    },
    {
      "cell_type": "code",
      "metadata": {
        "id": "-mdKkhpBqsUK",
        "colab": {
          "base_uri": "https://localhost:8080/"
        },
        "outputId": "5066deea-91e1-49cf-caf4-8913a4318231"
      },
      "source": [
        "!git clone https://github.com/changsin/ClassifyImages"
      ],
      "execution_count": 3,
      "outputs": [
        {
          "output_type": "stream",
          "text": [
            "fatal: destination path 'ClassifyImages' already exists and is not an empty directory.\n"
          ],
          "name": "stdout"
        }
      ]
    },
    {
      "cell_type": "markdown",
      "metadata": {
        "id": "auINzQHyrMYR"
      },
      "source": [
        "## Load and visualize images\n",
        "Let's first load and visualize the data."
      ]
    },
    {
      "cell_type": "code",
      "metadata": {
        "id": "MIIX9iZ87d9y"
      },
      "source": [
        "import argparse\n",
        "import glob\n",
        "import os\n",
        "\n",
        "import cv2\n",
        "import numpy as np\n",
        "import matplotlib.pyplot as plt\n",
        "\n",
        "from keras.applications.vgg16 import VGG16\n",
        "from keras.applications.vgg16 import preprocess_input\n",
        "from keras.models import Model\n",
        "from scipy.spatial.distance import cdist\n",
        "from sklearn import preprocessing  # to normalise existing X\n",
        "from sklearn.cluster import KMeans\n",
        "from sklearn.decomposition import PCA\n",
        "\n",
        "\"\"\"\n",
        "Methods for loading and visualizing images\n",
        "\"\"\"\n",
        "\n",
        "IMAGE_SIZE = 320\n",
        "\n",
        "def glob_files(folder, file_type='*'):\n",
        "    search_string = os.path.join(folder, file_type)\n",
        "    files = glob.glob(search_string)\n",
        "\n",
        "    # print('searching ', path)\n",
        "    paths = []\n",
        "    for f in files:\n",
        "      if os.path.isdir(f):\n",
        "        sub_paths = glob_files(f + '/')\n",
        "        paths += sub_paths\n",
        "      else:\n",
        "        paths.append(f)\n",
        "\n",
        "    # We sort the images in alphabetical order to match them\n",
        "    #  to the annotation files\n",
        "    paths.sort()\n",
        "\n",
        "    return paths\n",
        "\n",
        "def load_images(path, file_type=\"*\"):\n",
        "    files = glob_files(path, file_type)\n",
        "\n",
        "    images = []\n",
        "    for file in files:\n",
        "        # print(file)\n",
        "        image = cv2.imread(file)\n",
        "        if image is not None:\n",
        "            image = cv2.resize(image, (IMAGE_SIZE, IMAGE_SIZE))\n",
        "            # normalize\n",
        "            image = image / 255\n",
        "            images.append(image)\n",
        "        else:\n",
        "            print(file, ' is not an image file')\n",
        "\n",
        "    return np.array(images)\n",
        "\n",
        "def plot_images(X, idx=None, limit=20):\n",
        "  fig = plt.figure(figsize=(20,20))\n",
        "\n",
        "  # The number of images for plotting is limited to 50\n",
        "  end_id = len(X) if len(X) < limit else limit\n",
        "  if idx is None:\n",
        "    idx = range(0, end_id)\n",
        "\n",
        "  i = 0\n",
        "  for id in idx:\n",
        "    axis = fig.add_subplot(4, 4, i+1)\n",
        "    plt.axis('off')\n",
        "    image = X[id]\n",
        "    plt.imshow(image)\n",
        "    i += 1"
      ],
      "execution_count": 1,
      "outputs": []
    },
    {
      "cell_type": "markdown",
      "metadata": {
        "id": "aCjToz4V0tSJ"
      },
      "source": [
        "# Features"
      ]
    },
    {
      "cell_type": "markdown",
      "metadata": {
        "id": "PC6CpFMVsqkH"
      },
      "source": [
        "## Pixels as features\n",
        "Let's first consider what the features should be. In other words, what do we want to use as feature vectors to run the clustering algorithm. Since the data type is image, they are loaded as multi-dimensional arrays already so the default choice is to use them as they are.\n",
        "\n",
        "Running a clustering algorithm is easy with sklearn library which provides several clustering algorithms. Let's use KMeans which is probably the most popular. For visualization purposes, we will also run PCA (Principle Component Analysis) to reduce the dimension to two so that we can plot the clusters as x and y coordinates. Below is the implemention.\n",
        "\n",
        "```\n",
        "from sklearn.cluster import KMeans\n",
        "from sklearn.decomposition import PCA\n",
        "```"
      ]
    },
    {
      "cell_type": "code",
      "metadata": {
        "id": "8BvpHmD6HhCH"
      },
      "source": [
        "def get_pca_reduced(X_features, dimensions=2):\n",
        "  X_features_flatten = X_features.reshape(X_features.shape[0], -1)\n",
        "  pca = PCA(dimensions)\n",
        "\n",
        "  X_features_pca_reduced = pca.fit_transform(X_features_flatten)\n",
        "\n",
        "  return X_features_pca_reduced, pca\n",
        "\n",
        "\n",
        "def get_clusters(X_reduced, K):\n",
        "  kmeans = KMeans(n_clusters=K, random_state=0)\n",
        "  X_clusters = kmeans.fit(X_reduced)\n",
        "\n",
        "  return X_clusters, kmeans\n",
        "\n",
        "def to_cluster_idx(cluster_labels, bins):\n",
        "    \"\"\"\n",
        "    param labels: cluster labels\n",
        "    param bins: range of K\n",
        "    returns: dictionary of cluster IDs\n",
        "    \"\"\"\n",
        "    cluster_dict = dict()\n",
        "    for cluster_id in bins:\n",
        "        cluster_dict[cluster_id] = np.where(cluster_labels == cluster_id)[0]\n",
        "    return cluster_dict\n",
        "\n",
        "def cluster_images(path, K=2):\n",
        "  X = load_images(path)\n",
        "  plot_images(X)\n",
        "  X_reduced, pca = get_pca_reduced(X, dimensions=K)\n",
        "\n",
        "  X_clusters, kmeans = get_clusters(X_reduced, K)\n",
        "\n",
        "  # get the image ids of each cluster\n",
        "  cluster_idx = to_cluster_idx(X_clusters.labels_, range(K))\n",
        "\n",
        "  # keep the cluster centers\n",
        "  print(kmeans.cluster_centers_)\n",
        "  print(cluster_idx)\n",
        "  \n",
        "  return X_reduced, kmeans"
      ],
      "execution_count": 2,
      "outputs": []
    },
    {
      "cell_type": "markdown",
      "metadata": {
        "id": "fq_QaMPjwLQV"
      },
      "source": [
        "Here is the code for plotting the clusters."
      ]
    },
    {
      "cell_type": "code",
      "metadata": {
        "id": "2_ONBvBHDnXr"
      },
      "source": [
        "import matplotlib.pyplot as plt\n",
        "\n",
        "def plot_data_in_clusters(data, kmeans, idx=None, show_centroids=True):\n",
        "  marker_size = 7\n",
        "\n",
        "  # Plot the decision boundary. For that, we will assign a color to each\n",
        "  x_min, x_max = data[:, 0].min(), data[:, 0].max()\n",
        "  y_min, y_max = data[:, 1].min(), data[:, 1].max()\n",
        "\n",
        "  # Step size of the mesh. Decrease to increase the quality of the VQ.\n",
        "  # point in the mesh [x_min, x_max]x[y_min, y_max].\n",
        "  h = float((x_max - x_min)/100)\n",
        "\n",
        "  PADDING = h + marker_size\n",
        "  x_min, x_max = x_min - PADDING, x_max + PADDING\n",
        "  y_min, y_max = y_min - PADDING, y_max + PADDING\n",
        "\n",
        "  xx, yy = np.meshgrid(np.arange(x_min, x_max, h), np.arange(y_min, y_max, h))\n",
        "\n",
        "  # Obtain labels for each point in mesh. Use last trained model.\n",
        "  Z = kmeans.predict(np.c_[xx.ravel(), yy.ravel()])\n",
        "\n",
        "  # Put the result into a color plot\n",
        "  Z = Z.reshape(xx.shape)\n",
        "\n",
        "  plt.figure(2)\n",
        "  # plt.clf()\n",
        "  plt.imshow(Z, interpolation=\"nearest\",\n",
        "              extent=(xx.min(), xx.max(), yy.min(), yy.max()),\n",
        "              cmap=plt.cm.Paired, aspect=\"auto\", origin=\"lower\")\n",
        "\n",
        "  plt.plot(data[:, 0], data[:, 1], 'k.', markersize=marker_size)\n",
        "\n",
        "  if show_centroids:\n",
        "    markers = [\"o\", \"1\"]\n",
        "    # Plot the centroids as a white X\n",
        "    centroids = kmeans.cluster_centers_\n",
        "\n",
        "    for id in range(len(centroids)):\n",
        "      c = centroids[id]\n",
        "      plt.scatter(c[0], c[1], marker=markers[id], s=150, linewidths=marker_size,\n",
        "                  color=\"w\", zorder=10)\n",
        "  if idx:\n",
        "    for id in idx:\n",
        "        plt.scatter(data[id, 0], data[id, 1], marker=\"x\",\n",
        "                    s=150, linewidths=marker_size,\n",
        "                    color=\"w\", zorder=10)\n",
        "\n",
        "  plt.title(\"K-means clustering\")\n",
        "  plt.xlim(x_min, x_max)\n",
        "  plt.ylim(y_min, y_max)\n",
        "  plt.xticks(())\n",
        "  plt.yticks(())\n",
        "  plt.show()"
      ],
      "execution_count": 21,
      "outputs": []
    },
    {
      "cell_type": "markdown",
      "metadata": {
        "id": "iN2WT-RB0fbg"
      },
      "source": [
        "### Day and night images\n",
        "Using pixels as feature vectors should work well for day and night images of highways. Our intuition is that daytime images tend to have bigger pixel values than nighttime images and thus the algorithm was able to find natural clusters. Let's see if the algorithm confirms our intuition.\n"
      ]
    },
    {
      "cell_type": "code",
      "metadata": {
        "id": "ee5mgIIlzV8t"
      },
      "source": [
        "path_daynight = '/content/ClassifyImages/data/daynight'\n",
        "\n",
        "X_reduced_daynight, kmeans_daynight = cluster_images(path_daynight)\n",
        "plot_data_in_clusters(X_reduced_daynight, kmeans=kmeans_daynight)"
      ],
      "execution_count": null,
      "outputs": []
    },
    {
      "cell_type": "markdown",
      "metadata": {
        "id": "oZk8e8gHQFKv"
      },
      "source": [
        "### Highway CCTV images\n",
        "The data come from a public dataset of highway surveillance images. There are two types of settings: zoom-out and zoom-in. The images from these two settings have very distinct characteristics. Let's run the clustering algorithm to see if it can do it. \n",
        "\n",
        "The sample dataset resides in a different repository so let's clone it."
      ]
    },
    {
      "cell_type": "code",
      "metadata": {
        "colab": {
          "base_uri": "https://localhost:8080/"
        },
        "id": "I_xpu_p3RF8p",
        "outputId": "a3056e5d-7d00-4137-9cac-4c196b9a2791"
      },
      "source": [
        "!git clone https://github.com/changsin/DLTrafficCounter"
      ],
      "execution_count": 5,
      "outputs": [
        {
          "output_type": "stream",
          "text": [
            "fatal: destination path 'DLTrafficCounter' already exists and is not an empty directory.\n"
          ],
          "name": "stdout"
        }
      ]
    },
    {
      "cell_type": "code",
      "metadata": {
        "id": "WbCje-DtRBjS"
      },
      "source": [
        "path_traffic = '/content/DLTrafficCounter/data/bbox_highway/test'\n",
        "\n",
        "X_reduced_tr, kmeans_tr = cluster_images(path_traffic)\n",
        "plot_data_in_clusters(X_reduced_tr, kmeans=kmeans_tr)"
      ],
      "execution_count": null,
      "outputs": []
    },
    {
      "cell_type": "markdown",
      "metadata": {
        "id": "ym4_F5BvRJxu"
      },
      "source": [
        "Beautiful! Without any training, the clustering algorithm neatly divided the images into two distinct clusters. So far so good."
      ]
    },
    {
      "cell_type": "markdown",
      "metadata": {
        "id": "rFk_9d8d2Lis"
      },
      "source": [
        "### Car images\n",
        "The car images, however, pose challenges. Let's take a look at the images to see why."
      ]
    },
    {
      "cell_type": "code",
      "metadata": {
        "id": "5vQrDkDPsZne"
      },
      "source": [
        "path_cars = '/content/ClassifyImages/data/cars'\n",
        "\n",
        "images = load_images(path_cars)\n",
        "images.shape\n",
        "plot_images(images)"
      ],
      "execution_count": null,
      "outputs": []
    },
    {
      "cell_type": "code",
      "metadata": {
        "id": "hxTIyki24Wg7"
      },
      "source": [
        "# images = load_images(path_daynight)\n",
        "# images.shape"
      ],
      "execution_count": 8,
      "outputs": []
    },
    {
      "cell_type": "code",
      "metadata": {
        "id": "hrt2lSuiEOsg"
      },
      "source": [
        "# images.reshape(images.shape[0], -1).shape\n"
      ],
      "execution_count": 9,
      "outputs": []
    },
    {
      "cell_type": "code",
      "metadata": {
        "id": "tP6YTAtc6Ry0"
      },
      "source": [
        "# K = 2\n",
        "\n",
        "# images_flattened = images.reshape(images.shape[0], -1)\n",
        "\n",
        "# pca = PCA(K)\n",
        "\n",
        "# X_reduced = pca.fit_transform(images_flattened)\n",
        "\n",
        "# kmeans = KMeans(n_clusters=K, random_state=0)\n",
        "# clusters_cars = kmeans.fit(X_reduced)\n",
        "# clusters_cars"
      ],
      "execution_count": 10,
      "outputs": []
    },
    {
      "cell_type": "code",
      "metadata": {
        "id": "CzxinDoP7saM"
      },
      "source": [
        "# plot_data_in_clusters(X_reduced, kmeans)"
      ],
      "execution_count": 11,
      "outputs": []
    },
    {
      "cell_type": "markdown",
      "metadata": {
        "id": "6ewOV6OPRnrl"
      },
      "source": [
        "Though we can tell that there are two different model types, the background, color, locations, and angles are all different. Let's see how the clustering algorithm does based purely on pixel values. "
      ]
    },
    {
      "cell_type": "code",
      "metadata": {
        "id": "fuwo911LwLKw"
      },
      "source": [
        "X_reduced_cars, kmeans_cars = cluster_images(path_cars)\n",
        "plot_data_in_clusters(X_reduced_cars, kmeans=kmeans_cars)"
      ],
      "execution_count": null,
      "outputs": []
    },
    {
      "cell_type": "code",
      "metadata": {
        "id": "bKCaTXo6EA5u"
      },
      "source": [
        "images = load_images(path_cars)\n",
        "plot_images(images, idx=[0,  1,  3,  4, 13, 15])"
      ],
      "execution_count": null,
      "outputs": []
    },
    {
      "cell_type": "code",
      "metadata": {
        "id": "1TOGqcuCD0no"
      },
      "source": [
        "plot_images(images, idx=[2,  5,  6,  7,  8,  9, 10, 11, 12, 14])"
      ],
      "execution_count": null,
      "outputs": []
    },
    {
      "cell_type": "markdown",
      "metadata": {
        "id": "iXKtpTZWyABk"
      },
      "source": [
        "What happened? Though the algorithm ran without any error, the data points are scattered quite randomly around the latent space. What we wished to see some natural clusters instead. The reason should be obvious. In the day and night images, we were lucky because the magnitude of individual pixel values served as the pivoting criterion. In the case of cars, they were all taken during the day against complex backgrounds. Though we as humans could recognize different car model types, for the computers, they are just random pixel values and thus no natural clustering groups emerged.\n",
        "\n",
        "What we need is a way for the machines to recognize structures inherent in images. For this, we are turning to CNN (Convolutional Neural Network). \n"
      ]
    },
    {
      "cell_type": "markdown",
      "metadata": {
        "id": "yLSkBSovu-7J"
      },
      "source": [
        "## CNN for feature maps\n",
        "CNN is widely used to analyze images. An image is passed through a series of convolutions which act as filters to extract \"feature maps.\" These feature maps are used as the input to the subsequent layers in the model to perform higher level cognition tasks such as object detection. Here is the diagram of VGG-16 which is one of the earliest CNN models.\n"
      ]
    },
    {
      "cell_type": "markdown",
      "metadata": {
        "id": "7lBLNHeQ_1Cs"
      },
      "source": [
        "![image.png](data:image/png;base64,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)"
      ]
    },
    {
      "cell_type": "markdown",
      "metadata": {
        "id": "OKDDKNZ5_6im"
      },
      "source": [
        "[image source](https://neurohive.io/en/popular-networks/vgg16/)"
      ]
    },
    {
      "cell_type": "markdown",
      "metadata": {
        "id": "mQ104av7AZF9"
      },
      "source": [
        "The convolutional layers comprise the majority of VGG-16 layers except the last three. To see the effect of convolutions. Let's intercept one of the convolution outputs and visualize them. Here is the method to intercept the CNN output. You can specify the layer number from which you want to extract the CNN output. "
      ]
    },
    {
      "cell_type": "markdown",
      "metadata": {
        "id": "D-MbXqSwuwM2"
      },
      "source": [
        "### Visualize CNN outputs"
      ]
    },
    {
      "cell_type": "code",
      "metadata": {
        "id": "OTYF_Atj_VJK"
      },
      "source": [
        "def get_cnn_output(X, layer=1):\n",
        "  \"\"\"\n",
        "  returns the CNN output from the specified layer\n",
        "  \"\"\"\n",
        "  #Convert to VGG input format\n",
        "  X = preprocess_input(X)\n",
        "\n",
        "  #include_top=False == not getting VGG16 last 3 layers\n",
        "  model = VGG16(weights=\"imagenet\", include_top=False)\n",
        "\n",
        "  model = Model(inputs=model.inputs, outputs=model.layers[layer].output)\n",
        "  model.summary()\n",
        "  features = model.predict(X)\n",
        "  # print(features.shape)\n",
        "\n",
        "  return features"
      ],
      "execution_count": 15,
      "outputs": []
    },
    {
      "cell_type": "code",
      "metadata": {
        "id": "LZcPtLxMBBNO",
        "colab": {
          "base_uri": "https://localhost:8080/"
        },
        "outputId": "eb6980ec-89ec-42e7-e5d6-ad4619a6a112"
      },
      "source": [
        "cnn_results = get_cnn_output(images)"
      ],
      "execution_count": 16,
      "outputs": [
        {
          "output_type": "stream",
          "text": [
            "Model: \"model\"\n",
            "_________________________________________________________________\n",
            "Layer (type)                 Output Shape              Param #   \n",
            "=================================================================\n",
            "input_1 (InputLayer)         [(None, None, None, 3)]   0         \n",
            "_________________________________________________________________\n",
            "block1_conv1 (Conv2D)        (None, None, None, 64)    1792      \n",
            "=================================================================\n",
            "Total params: 1,792\n",
            "Trainable params: 1,792\n",
            "Non-trainable params: 0\n",
            "_________________________________________________________________\n"
          ],
          "name": "stdout"
        }
      ]
    },
    {
      "cell_type": "markdown",
      "metadata": {
        "id": "8d-y53ziDFC2"
      },
      "source": [
        "It returns output vectors of size 64, each of which represents the result of a particular convolution. Let's take a look at a couple of them. Some outputs are not quite humanly recognizable, but here are a few that seem to make sense to a human eye. "
      ]
    },
    {
      "cell_type": "code",
      "metadata": {
        "id": "PV-4cRNPDewh"
      },
      "source": [
        "plot_images([cnn_results[0][:, :, 1], cnn_results[0][:, :, 22], cnn_results[0][:, :, 27], cnn_results[0][:, :, 50]])"
      ],
      "execution_count": null,
      "outputs": []
    },
    {
      "cell_type": "markdown",
      "metadata": {
        "id": "YmbD8nplGZke"
      },
      "source": [
        "We can see that each convolution operation is picking up particular aspect of the input image though we could not articulate exactly what they are. We visualized the output results from the first convolutional layer. The results are then fed into subsequent convolution layers all the way excep the last three layers. For our purposes, we will take the last output from the convolutional layer as the feature maps for clustering. Below is the code for extracting and then clustering with feature maps."
      ]
    },
    {
      "cell_type": "code",
      "metadata": {
        "id": "tIL83Ctd_Mtw"
      },
      "source": [
        "def to_feature_maps(path, file_type=\"*\"):\n",
        "    def _to_feature_maps(X):\n",
        "        #Convert to VGG input format\n",
        "        X = preprocess_input(X)\n",
        "\n",
        "        #include_top=False == not getting VGG16 last 3 layers\n",
        "        model = VGG16(weights=\"imagenet\", include_top=False)\n",
        "\n",
        "        return model.predict(X)\n",
        "\n",
        "    files = glob_files(path, file_type)\n",
        "\n",
        "    files_processed = []\n",
        "    feature_maps = []\n",
        "    for file in files:\n",
        "        # print(file)\n",
        "        image = cv2.imread(file)\n",
        "        if image is not None:\n",
        "            image = cv2.resize(image, (IMAGE_SIZE, IMAGE_SIZE))\n",
        "            image = image / 255\n",
        "            # doing it one at a time to reduce the memory foot print\n",
        "            fm = _to_feature_maps(np.array([image]))\n",
        "            feature_maps.append(fm)\n",
        "\n",
        "            files_processed.append(file)\n",
        "        else:\n",
        "            print(file, ' is not an image file')\n",
        "\n",
        "    return np.array(feature_maps), files_processed\n",
        "\n",
        "def cluster_images_fm(path, K=2, cosine_distance=True):\n",
        "  X_fm, files = to_feature_maps(path)\n",
        "\n",
        "  # # normalize to use cosine similarity\n",
        "  if cosine_distance:\n",
        "    X_fm = preprocessing.normalize(X_fm.reshape(len(X_fm), -1))\n",
        "\n",
        "  X_reduced_fm, pca_fm = get_pca_reduced(X_fm, dimensions=K)\n",
        "\n",
        "  X_clusters_fm, kmeans_fm = get_clusters(X_reduced_fm, K)\n",
        "\n",
        "  # get the image ids of each cluster\n",
        "  cluster_idx_fm = to_cluster_idx(X_clusters_fm.labels_, range(K))\n",
        "\n",
        "  # keep the cluster centers\n",
        "  print(kmeans_fm.cluster_centers_)\n",
        "  print(cluster_idx_fm)\n",
        "\n",
        "  return X_reduced_fm, kmeans_fm"
      ],
      "execution_count": 18,
      "outputs": []
    },
    {
      "cell_type": "code",
      "metadata": {
        "id": "5NRMC9QSNpTw"
      },
      "source": [
        "def get_feature_maps(X):\n",
        "    #Convert to VGG input format\n",
        "    # X_pre = preprocess_input(X)\n",
        "\n",
        "    #include_top=False == not getting VGG16 last 3 layers\n",
        "    model = VGG16(weights=\"imagenet\", include_top=False)\n",
        "\n",
        "    return model.predict(X)"
      ],
      "execution_count": 19,
      "outputs": []
    },
    {
      "cell_type": "code",
      "metadata": {
        "id": "Gv6DWUe1OmzP"
      },
      "source": [
        "images = load_images(path_cars)"
      ],
      "execution_count": 20,
      "outputs": []
    },
    {
      "cell_type": "markdown",
      "metadata": {
        "id": "YM2MVbjuSLXz"
      },
      "source": [
        "# Distance functions"
      ]
    },
    {
      "cell_type": "markdown",
      "metadata": {
        "id": "Y9E1z7AUQ2mu"
      },
      "source": [
        "### Euclidean distance\n",
        "\n",
        "Let's run the same algorithm with the feature maps using Euclidean distance which is the default distance function."
      ]
    },
    {
      "cell_type": "markdown",
      "metadata": {
        "id": "SgATq-YqTOkC"
      },
      "source": [
        "The formula for calculating the Euclidean distance is:\n",
        "\n",
        "$ d(p1, p2) = \\sqrt{\\sum \\limits_{i=1}^{N} (p2_i - p1_i)^2} $\n",
        "- d: distance\n",
        "- p, q: two points (vectors)\n",
        "- N: dimensions\n",
        "\n",
        "In x, y coordinates, the formula is:\n",
        "$ d(p1, p2) = \\sqrt{(x_2 - x_1)^2 + (y_2 - y_1)^2} $\n"
      ]
    },
    {
      "cell_type": "code",
      "metadata": {
        "id": "p-uRjXyHDJT3"
      },
      "source": [
        "X_reduced_cars, kmeans_cars = cluster_images_fm(path_cars, K=2, cosine_distance=False)\n",
        "plot_data_in_clusters(X_reduced_cars, kmeans=kmeans_cars)"
      ],
      "execution_count": null,
      "outputs": []
    },
    {
      "cell_type": "markdown",
      "metadata": {
        "id": "g41hSfZCPRJw"
      },
      "source": [
        "Though there are a few confused cases, 6/8 Beetles and 6/8 Microbuses are clustered together correctly."
      ]
    },
    {
      "cell_type": "code",
      "metadata": {
        "id": "WOGNgqtCDQnU"
      },
      "source": [
        "plot_images(images, idx=[ 0,  2,  3,  4,  6,  7,  9, 15])"
      ],
      "execution_count": null,
      "outputs": []
    },
    {
      "cell_type": "code",
      "metadata": {
        "id": "Brs2K3biO-5y"
      },
      "source": [
        "plot_images(images, idx=[ 1,  5,  8, 10, 11, 12, 13, 14])"
      ],
      "execution_count": null,
      "outputs": []
    },
    {
      "cell_type": "code",
      "metadata": {
        "id": "kXyM_wx_RTi4"
      },
      "source": [
        "plot_data_in_clusters(X_reduced_cars, kmeans=kmeans_cars, idx=[8, 9])"
      ],
      "execution_count": null,
      "outputs": []
    },
    {
      "cell_type": "markdown",
      "metadata": {
        "id": "-0gZgFeYSE3A"
      },
      "source": [
        "### Cosine distance\n",
        "Let's run the algorithm again but with cosine distance this time. The cosine distance function is:\n",
        "\n",
        "\n",
        "$$ cos\\theta = \\frac{xy}{|x||y|} $$\n",
        "\n",
        "This is called the cosine similarity because it tells you the difference between two normalized vectors. The bigger the number is the more similar. If there is no similarity, they are orthogonal and the result is zero.\n",
        "\n",
        "\n",
        "By flipping the nominator and the denominator, we can use it as a distance measure:\n",
        "\n",
        "$$ d(x, y) = \\frac{|x||y|}{xy} $$\n",
        "\n",
        "In this case, the smaller the number is, the more similar. "
      ]
    },
    {
      "cell_type": "markdown",
      "metadata": {
        "id": "Njz0qydaPmri"
      },
      "source": [
        "Running with cosine distance (normalization) did not change the clusters in this case."
      ]
    },
    {
      "cell_type": "code",
      "metadata": {
        "colab": {
          "base_uri": "https://localhost:8080/"
        },
        "id": "omdW5KessW3D",
        "outputId": "327e2d77-d6fe-4056-8326-c9e68009e25b"
      },
      "source": [
        "X_reduced_cars_co, kmeans_cars_co = cluster_images_fm(path_cars, K=2, cosine_distance=True)\n",
        "plot_data_in_clusters(X_reduced_cars_co, kmeans=kmeans_cars_co)"
      ],
      "execution_count": 26,
      "outputs": [
        {
          "output_type": "stream",
          "text": [
            "[[ 0.01173502 -0.00040805]\n",
            " [-0.01173502  0.00040805]]\n",
            "{0: array([ 1,  5,  8, 10, 11, 12, 13, 14]), 1: array([ 0,  2,  3,  4,  6,  7,  9, 15])}\n"
          ],
          "name": "stdout"
        }
      ]
    },
    {
      "cell_type": "code",
      "metadata": {
        "id": "LSdbP6VeUHH_"
      },
      "source": [
        "plot_data_in_clusters(X_reduced_cars_co, kmeans=kmeans_cars_co)"
      ],
      "execution_count": null,
      "outputs": []
    },
    {
      "cell_type": "code",
      "metadata": {
        "id": "jF5cf4g0yoQl"
      },
      "source": [
        "images = load_images(path_cars)"
      ],
      "execution_count": null,
      "outputs": []
    },
    {
      "cell_type": "code",
      "metadata": {
        "id": "FULZYYa9yV-k"
      },
      "source": [
        "plot_images(images, idx=[1,  5,  8, 10, 11, 12, 13, 14])"
      ],
      "execution_count": null,
      "outputs": []
    },
    {
      "cell_type": "markdown",
      "metadata": {
        "id": "fO1niryCSreK"
      },
      "source": [
        "Then run the clustering algorithm with simple pixel values and feature maps."
      ]
    },
    {
      "cell_type": "code",
      "metadata": {
        "id": "BMWiuvPy23au"
      },
      "source": [
        "X_reduced_trfm, kmeans_trfm = cluster_images_fm(path_traffic, K=2, cosine_distance=True)\n",
        "plot_data_in_clusters(X_reduced_trfm, kmeans=kmeans_trfm)"
      ],
      "execution_count": null,
      "outputs": []
    },
    {
      "cell_type": "markdown",
      "metadata": {
        "id": "1VjhSgGdS77j"
      },
      "source": [
        "Though the shape of the clusters are different, the results are identical."
      ]
    },
    {
      "cell_type": "code",
      "metadata": {
        "id": "mi4vyRhA-D_U"
      },
      "source": [
        "plot_images(images, idx=[0,  2,  3,  4,  6,  7,  9, 15])"
      ],
      "execution_count": null,
      "outputs": []
    },
    {
      "cell_type": "markdown",
      "metadata": {
        "id": "6yFkLN88qNdN"
      },
      "source": [
        "# Find similar images\n",
        "\n",
        "Clustering gives you more than just grouping of similar items. Since it uses a distance function to calculate similarities, we can actually use to find similar images or even find duplicate images where the similarity is an identity.\n",
        "\n",
        "To find similar items in the dataset, we need to build NxN matrix of relative distances between all data pairs.\n",
        "\n",
        "find_min_max() calculates the distance pairs and find the minimum (most similar) and the maximum (most different) pairs."
      ]
    },
    {
      "cell_type": "code",
      "metadata": {
        "id": "BbEWLKh08T75"
      },
      "source": [
        "def find_min_max(X_data):\n",
        "  # Calculate distances of all points\n",
        "  distances = cdist(X_data, X_data)\n",
        "\n",
        "  rows = distances.shape[0]\n",
        "\n",
        "  max_id1 = int(np.argmax(distances)/rows)\n",
        "  max_id2 = np.argmax(distances[max_id1])\n",
        "\n",
        "  # use the max value to set the zero value of the diagonal \n",
        "  max = np.max(distances)\n",
        "\n",
        "  for row_id in range(distances.shape[0]):\n",
        "    distances[row_id, row_id] = max\n",
        "\n",
        "  min_id1 = int(np.argmin(distances)/distances.shape[0])\n",
        "  min_id2 = np.argmin(distances[min_id1])\n",
        "\n",
        "  print(\"min: {} {}\".format((min_id1, min_id2), distances[min_id1, min_id2]))\n",
        "  print(\"max: {} {}\".format((max_id1, max_id2), distances[max_id1, max_id2]))\n",
        "\n",
        "  return (min_id1, min_id2), (max_id1, max_id2)"
      ],
      "execution_count": null,
      "outputs": []
    },
    {
      "cell_type": "markdown",
      "metadata": {
        "id": "1v60gpNpUzzo"
      },
      "source": [
        "Running against the car dataset, we find two similar images easily."
      ]
    },
    {
      "cell_type": "code",
      "metadata": {
        "id": "qhnbBs9qHW0I"
      },
      "source": [
        "(min_id1, min_id2), (max_id1, max_id2) = find_min_max(X_reduced_cars)\n",
        "plot_data_in_clusters(X_reduced_cars, kmeans=kmeans_cars, idx=[4, 9])"
      ],
      "execution_count": null,
      "outputs": []
    },
    {
      "cell_type": "markdown",
      "metadata": {
        "id": "O8x2lNSCVItI"
      },
      "source": [
        "In this case, they are not quite similar to a human observer."
      ]
    },
    {
      "cell_type": "code",
      "metadata": {
        "id": "LzLJT4MEIQhi"
      },
      "source": [
        "plot_images(images, [4, 9])"
      ],
      "execution_count": null,
      "outputs": []
    },
    {
      "cell_type": "markdown",
      "metadata": {
        "id": "OVpvW1dYVTLi"
      },
      "source": [
        "Let's try cosine distance."
      ]
    },
    {
      "cell_type": "code",
      "metadata": {
        "id": "Xtksv3qiHqTg"
      },
      "source": [
        "(min_id1, min_id2), (max_id1, max_id2) = find_min_max(X_reduced_cars_co)\n",
        "plot_data_in_clusters(X_reduced_cars_co, kmeans=kmeans_cars_co, idx=[8, 10])"
      ],
      "execution_count": null,
      "outputs": []
    },
    {
      "cell_type": "code",
      "metadata": {
        "id": "fW6ohiLwIY7R"
      },
      "source": [
        "plot_images(images, [8, 10])"
      ],
      "execution_count": null,
      "outputs": []
    },
    {
      "cell_type": "markdown",
      "metadata": {
        "id": "1oKZuW4KVbRA"
      },
      "source": [
        "In this case, they do look quite similar. So we may conclude that cosine distance function is a good fit for this dataset in finding similarities."
      ]
    },
    {
      "cell_type": "markdown",
      "metadata": {
        "id": "eiK1SI-xqJZl"
      },
      "source": [
        "# Find duplicates\n",
        "Using the same distance function, we can find duplicate images too. Duplicate images can be identical images or very similar images. In either case, the distance function will return very small number (close to zero). With this information, here is the code for finding duplicate images."
      ]
    },
    {
      "cell_type": "code",
      "metadata": {
        "id": "Gip-w1uQ-kcG"
      },
      "source": [
        "def find_duplicates(X_train_pca, threshold=0.1):\n",
        "    # Calculate distances of all points\n",
        "    distances = cdist(X_train_pca, X_train_pca)\n",
        "\n",
        "    # Find duplicates (very similar images)\n",
        "    # dupes = np.array([np.where(distances[id] < 1) for id in range(distances.shape[0])]).reshape(-1)\n",
        "    dupes = [np.array(np.where(distances[id] < threshold)).reshape(-1).tolist() \\\n",
        "            for id in range(distances.shape[0])]\n",
        "\n",
        "    to_remove = set()\n",
        "    for d in dupes:\n",
        "        if len(d) > 1:\n",
        "            for id in range(1, len(d)):\n",
        "                to_remove.add(d[id])\n",
        "    logger.info(\"Found {} duplicates\".format(len(to_remove)))\n",
        "    return to_remove"
      ],
      "execution_count": null,
      "outputs": []
    },
    {
      "cell_type": "code",
      "metadata": {
        "id": "fLbw9gZTWBTe"
      },
      "source": [
        ""
      ],
      "execution_count": null,
      "outputs": []
    }
  ]
}
