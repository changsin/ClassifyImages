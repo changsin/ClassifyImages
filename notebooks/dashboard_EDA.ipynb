{
  "nbformat": 4,
  "nbformat_minor": 0,
  "metadata": {
    "colab": {
      "name": "mnist_data_test.ipynb",
      "provenance": [],
      "machine_shape": "hm",
      "authorship_tag": "ABX9TyO7MMpMXX47CxzpnRBUwIsc",
      "include_colab_link": true
    },
    "kernelspec": {
      "name": "python3",
      "display_name": "Python 3"
    },
    "language_info": {
      "name": "python"
    },
    "accelerator": "GPU"
  },
  "cells": [
    {
      "cell_type": "markdown",
      "metadata": {
        "id": "view-in-github",
        "colab_type": "text"
      },
      "source": [
        "<a href=\"https://colab.research.google.com/github/changsin/ClassifyImages/blob/main/notebooks/dashboard_EDA.ipynb\" target=\"_parent\"><img src=\"https://colab.research.google.com/assets/colab-badge.svg\" alt=\"Open In Colab\"/></a>"
      ]
    },
    {
      "cell_type": "markdown",
      "metadata": {
        "id": "rmr3ahqma9uk"
      },
      "source": [
        "# Setup\n",
        "Install requirements and prepare the dataset for training.\n",
        "\n"
      ]
    },
    {
      "cell_type": "code",
      "metadata": {
        "id": "7fNDvNWOWvpl",
        "colab": {
          "base_uri": "https://localhost:8080/"
        },
        "outputId": "5ee72f40-58f1-44af-d491-0e71d5ee0e10"
      },
      "source": [
        "from google.colab import drive\n",
        "drive.mount('/content/drive')"
      ],
      "execution_count": 1,
      "outputs": [
        {
          "output_type": "stream",
          "name": "stdout",
          "text": [
            "Mounted at /content/drive\n"
          ]
        }
      ]
    },
    {
      "cell_type": "code",
      "metadata": {
        "id": "igvz9grDcfyy"
      },
      "source": [
        "DATA_ROOT = \"/content/drive/MyDrive/data/Top15/train_top15_a_seatbelt/\""
      ],
      "execution_count": 2,
      "outputs": []
    },
    {
      "cell_type": "code",
      "metadata": {
        "id": "MJnZzGK2bh6F"
      },
      "source": [
        "import glob\n",
        "import os\n",
        "\n",
        "def glob_files(path, file_type=\"*\"):\n",
        "    search_string = os.path.join(path, file_type)\n",
        "    files = glob.glob(search_string)\n",
        "\n",
        "    # print('searching ', path)\n",
        "    paths = []\n",
        "    for f in files:\n",
        "      if os.path.isdir(f):\n",
        "        sub_paths = glob_files(f + '/')\n",
        "        paths += sub_paths\n",
        "      else:\n",
        "        paths.append(f)\n",
        "\n",
        "    # We sort the images in alphabetical order to match them\n",
        "    #  to the annotation files\n",
        "    paths.sort()\n",
        "\n",
        "    return paths\n"
      ],
      "execution_count": 3,
      "outputs": []
    },
    {
      "cell_type": "code",
      "metadata": {
        "id": "fJ_C0gh4TdbZ"
      },
      "source": [
        "import cv2\n",
        "import numpy as np\n",
        "\n",
        "IMAGE_SIZE = 600\n",
        "\n",
        "def load_images(path):\n",
        "  files = glob_files(path, \"*.jpg\")\n",
        "\n",
        "  # print(files)\n",
        "  X_data = []\n",
        "  for file in files:\n",
        "    image = cv2.imread(file)\n",
        "    image = image/255\n",
        "    # print(image.shape)\n",
        "    # x = cv2.resize(image, None, fx=0.5, fy=0.5, interpolation=cv2.INTER_AREA)\n",
        "\n",
        "    X_data.append(image)\n",
        "  return np.array(X_data)"
      ],
      "execution_count": 4,
      "outputs": []
    },
    {
      "cell_type": "code",
      "metadata": {
        "colab": {
          "base_uri": "https://localhost:8080/"
        },
        "id": "2_LFEDL5c7a4",
        "outputId": "4ca71a0d-9179-4538-b338-b4111b4c8308"
      },
      "source": [
        "X = load_images(DATA_ROOT + \"train_top15_a_seatbelt_0/\")\n",
        "X.shape"
      ],
      "execution_count": 5,
      "outputs": [
        {
          "output_type": "stream",
          "name": "stderr",
          "text": [
            "/usr/local/lib/python3.7/dist-packages/ipykernel_launcher.py:18: VisibleDeprecationWarning: Creating an ndarray from ragged nested sequences (which is a list-or-tuple of lists-or-tuples-or ndarrays with different lengths or shapes) is deprecated. If you meant to do this, you must specify 'dtype=object' when creating the ndarray\n"
          ]
        },
        {
          "output_type": "execute_result",
          "data": {
            "text/plain": [
              "(90,)"
            ]
          },
          "metadata": {},
          "execution_count": 5
        }
      ]
    },
    {
      "cell_type": "code",
      "metadata": {
        "colab": {
          "base_uri": "https://localhost:8080/"
        },
        "id": "im3rf-9oUBCI",
        "outputId": "e3ad5c92-171b-41e7-c808-3998b2487d60"
      },
      "source": [
        "# WIDTH = 1920\n",
        "# HEIGHT = 1080\n",
        "\n",
        "def load_labels(path, X):\n",
        "  files = glob_files(path, \"*.txt\")\n",
        "\n",
        "  Y_data = []\n",
        "  for file, x in zip(files, X):\n",
        "    width = x.shape[1]\n",
        "    height = x.shape[0]\n",
        "    with open(file) as f:\n",
        "      lines = f.readlines()\n",
        "\n",
        "      boxes = []\n",
        "      for line in lines:\n",
        "        tokens = line.split()\n",
        "\n",
        "        class_id = int(tokens[0])\n",
        "        xc = float(tokens[1]) * width\n",
        "        yc = float(tokens[2]) * height\n",
        "        box_width = float(tokens[3]) * width\n",
        "        box_height = float(tokens[4]) * height\n",
        "\n",
        "        boxes.append(np.array([class_id, xc, yc, box_width, box_height]))\n",
        "        # print(class_id, xc, yc, width, height)\n",
        "\n",
        "      Y_data.append(np.array(boxes))\n",
        "      # print(lines)\n",
        "  return np.array(Y_data)\n",
        "\n",
        "Y = load_labels(DATA_ROOT + \"train_top15_a_seatbelt_0/\", X)"
      ],
      "execution_count": 6,
      "outputs": [
        {
          "output_type": "stream",
          "name": "stderr",
          "text": [
            "/usr/local/lib/python3.7/dist-packages/ipykernel_launcher.py:29: VisibleDeprecationWarning: Creating an ndarray from ragged nested sequences (which is a list-or-tuple of lists-or-tuples-or ndarrays with different lengths or shapes) is deprecated. If you meant to do this, you must specify 'dtype=object' when creating the ndarray\n"
          ]
        }
      ]
    },
    {
      "cell_type": "code",
      "metadata": {
        "id": "OLVDsqz2WYHh"
      },
      "source": [
        "import matplotlib.pyplot as plt\n",
        "import matplotlib.patches as patches\n",
        "\n",
        "COLORS = [(0, 255/255, 0), (255/255, 255/255, 0), (255/255, 0, 0)]\n",
        "\n",
        "CLASS_NAMES = [\"alert@Alternator\", \"alert@Brake\", \"alert@Coolant\",\n",
        "        \"alert@Distance\", \"alert@EngineOil\", \"alert@EngineOilTemp\",\n",
        "        \"alert@Parking\", \"alert@Retaining\", \"alert@Seatbelt\",\n",
        "        \"alert@Steering\",\n",
        "\n",
        "        \"warning@ABS\", \"warning@Brake\", \"warning@BrakeWear\",\n",
        "        \"warning@CentralMonitoring\", \"warning@EPC\", \"warning@Engine\",\n",
        "        \"warning@Fuel\", \"warning@Glow\", \"warning@Headlamp\",\n",
        "        \"warning@Lamp\", \"warning@Parking\", \"warning@Retaining\",\n",
        "        \"warning@StabilityOff\", \"warning@StabilityOn\", \"warning@Steering\",\n",
        "        \"warning@TPMS\", \"warning@Tire\", \"warning@Washer\"]\n",
        "\n",
        "def create_patch_rectangle(y, color=COLORS[2]):\n",
        "  # # in yolov5\n",
        "  width = int(y[2])\n",
        "  height = int(y[3])\n",
        "  return patches.Rectangle((int(y[0] - width/2), int(y[1] - height/2)),\n",
        "                           width, height,\n",
        "                           edgecolor=color, fill=False)\n",
        "\n",
        "COLORS = [(0, 255/255, 0), (255/255, 255/255, 0), (255/255, 0, 0)]\n",
        "\n",
        "def plot_image(image, boxes, axis):\n",
        "  # print(boxes.shape)\n",
        "  for box in boxes:\n",
        "    # print(box)\n",
        "    class_id = int(box[0])\n",
        "    # print(type(class_id), class_id)\n",
        "    rect = create_patch_rectangle(box[1:])\n",
        "    axis.add_patch(rect)\n",
        "\n",
        "  plt.imshow(image)\n",
        "\n",
        "def plot_images(X, Y, limit=10):\n",
        "  fig = plt.figure(figsize=(100, 80))\n",
        "\n",
        "  last_id = min(limit, X.shape[0])\n",
        "  for id in range(last_id):\n",
        "    axis = fig.add_subplot(5, 3, id + 1)\n",
        "    axis.get_xaxis().set_visible(False)\n",
        "    axis.get_yaxis().set_visible(False)\n",
        "    plot_image(X[id], Y[id], axis)\n",
        "\n",
        "def plot_label_images(X, Y, limit=10):\n",
        "  fig = plt.figure(figsize=(10, 8))\n",
        "\n",
        "  last_id = min(limit, X.shape[0])\n",
        "  for id in range(last_id):\n",
        "    axis = fig.add_subplot(5, 3, id + 1)\n",
        "    axis.get_xaxis().set_visible(False)\n",
        "    axis.get_yaxis().set_visible(False)\n",
        "    axis.set_title(CLASS_NAMES[Y[id]])\n",
        "    axis.imshow(X[id])\n",
        "  fig.show()\n",
        "\n",
        "def get_bbox(y):\n",
        "  width = int(y[2])\n",
        "  height = int(y[3])\n",
        "  return int(y[0] - width/2), int(y[1] - height/2), width, height\n",
        "\n",
        "def plot_labels(X, Y, limit=30):\n",
        "  fig = plt.figure(figsize=(10, 8))\n",
        "  last_id = min(limit, X.shape[0])\n",
        "\n",
        "  print(last_id, limit, X.shape[0])\n",
        "\n",
        "  label_id = 1\n",
        "  for id in range(last_id):\n",
        "\n",
        "    image = X[id]\n",
        "    for box in Y[id]:\n",
        "      if label_id >= 100:\n",
        "        break\n",
        "\n",
        "      class_id = int(box[0])\n",
        "      x, y, box_width, box_height = get_bbox(box[1:])\n",
        "      # print(\"y:\", y, y + box_height, \"x:\", x, x + box_width)\n",
        "      # print(image[y:y+box_height, x:x+box_width].shape)\n",
        "\n",
        "      axis = fig.add_subplot(10, 10, label_id)\n",
        "      axis.get_xaxis().set_visible(False)\n",
        "      axis.get_yaxis().set_visible(False)\n",
        "      axis.imshow(image[y:y+box_height, x:x+box_width])\n",
        "\n",
        "      axis.show()\n",
        "      label_id += 1\n",
        "\n",
        "LABEL_SIZE = 20\n",
        "def extract_box_image_data(X, Y):\n",
        "  box_images = []\n",
        "  box_labels = []\n",
        "  for id in range(len(X)):\n",
        "    image = X[id]\n",
        "    for box in Y[id]:\n",
        "      class_id = int(box[0])\n",
        "      box_labels.append(class_id)\n",
        "\n",
        "      x, y, box_width, box_height = get_box(box[1:])\n",
        "      box_image = image[y:y+box_height, x:x+box_width]\n",
        "      # Make sure that you resize all labels.\n",
        "      # This is necessary for two reasons:\n",
        "      #   1. If image sizes are different,\n",
        "      #      the resulting box_images will not be a whole sum np.array.\n",
        "      #     Instead, it will become an array of arraies\n",
        "      #   2. For clustering purposes\n",
        "      box_image = cv2.resize(box_image, (IMAGE_SIZE, IMAGE_SIZE))\n",
        "      box_images.append(box_image)\n",
        "\n",
        "  box_images = np.array(box_images)\n",
        "  box_labels = np.array(box_labels)\n",
        "  return box_images, box_labels\n",
        "# plot_images(np.array(X[:1]), np.array(Y[:1]))"
      ],
      "execution_count": 131,
      "outputs": []
    },
    {
      "cell_type": "code",
      "metadata": {
        "id": "HztKU3CekFp2"
      },
      "source": [
        "# plot_labels(np.array(X[:50]), np.array(Y[:50]), limit=50)\n",
        "\n",
        "box_images, box_labels = extract_box_image_data(X, Y)"
      ],
      "execution_count": 132,
      "outputs": []
    },
    {
      "cell_type": "code",
      "metadata": {
        "colab": {
          "base_uri": "https://localhost:8080/"
        },
        "id": "1M9N-unNOgb4",
        "outputId": "e27f918b-3079-4eae-c53f-0dc6be3650fd"
      },
      "source": [
        "box_labels.shape\n",
        "box_images.shape"
      ],
      "execution_count": 133,
      "outputs": [
        {
          "output_type": "execute_result",
          "data": {
            "text/plain": [
              "(623, 600, 600, 3)"
            ]
          },
          "metadata": {},
          "execution_count": 133
        }
      ]
    },
    {
      "cell_type": "code",
      "metadata": {
        "id": "5cN5vz4zEzsQ"
      },
      "source": [
        "plot_label_images(box_images, box_labels)"
      ],
      "execution_count": null,
      "outputs": []
    },
    {
      "cell_type": "code",
      "metadata": {
        "id": "6eW7Y0CnpbgD"
      },
      "source": [
        "from keras.applications.vgg16 import VGG16\n",
        "from keras.applications.vgg16 import preprocess_input\n",
        "from keras.models import Model\n",
        "from scipy.spatial.distance import cdist\n",
        "\n",
        "from sklearn import preprocessing  # to normalise existing X\n",
        "from sklearn.cluster import KMeans\n",
        "from sklearn.decomposition import PCA\n",
        "\n",
        "def to_feature_maps(X):\n",
        "  #Convert to VGG input format\n",
        "  # This is not necessary since the input is already normalized when loading\n",
        "  # X_processed = preprocess_input(X)\n",
        "\n",
        "  #include_top=False == not getting VGG16 last 3 layers\n",
        "  model = VGG16(weights=\"imagenet\", include_top=False)\n",
        "\n",
        "  return model.predict(X)\n",
        "\n",
        "def get_pca_reduced(X_fm, dimensions=2):\n",
        "  X_fm_flat = X_fm.reshape(X_fm.shape[0], -1)\n",
        "  pca = PCA(dimensions)\n",
        "\n",
        "  X_fm_reduced = pca.fit_transform(X_fm_flat)\n",
        "\n",
        "  return X_fm_reduced, pca\n",
        "\n",
        "\n",
        "def get_clusters(X, K):\n",
        "  kmeans = KMeans(n_clusters=K, random_state=0)\n",
        "  X_clusters = kmeans.fit(X)\n",
        "\n",
        "  return X_clusters, kmeans\n",
        "\n",
        "def to_cluster_idx(cluster_labels, bins):\n",
        "    \"\"\"\n",
        "    param labels: cluster labels\n",
        "    param bins: range of K\n",
        "    returns: dictionary of cluster IDs\n",
        "    \"\"\"\n",
        "    cluster_dict = dict()\n",
        "    for cluster_id in bins:\n",
        "        cluster_dict[cluster_id] = np.where(cluster_labels == cluster_id)[0]\n",
        "    return cluster_dict\n",
        "\n",
        "def cluster_images(X, K=2):\n",
        "  # make it 2D\n",
        "  X_reshaped = preprocessing.normalize(X.reshape(len(X), -1))\n",
        "  X_clusters, kmeans = get_clusters(X_reshaped, K)\n",
        "\n",
        "  # get the image ids of each cluster\n",
        "  cluster_idx = to_cluster_idx(X_clusters.labels_, range(K))\n",
        "\n",
        "  # keep the cluster centers\n",
        "  print(kmeans.cluster_centers_)\n",
        "  print(cluster_idx)\n",
        "  \n",
        "  # return X_reshaped, kmeans\n",
        "  return X_reshaped, X_clusters, kmeans\n",
        "\n",
        "def cluster_images_fm(X, K=2, cosine_distance=True):\n",
        "  X_fm = to_feature_maps(X)\n",
        "\n",
        "  # # normalize to use cosine similarity\n",
        "  if cosine_distance:\n",
        "    X_fm = preprocessing.normalize(X_fm.reshape(len(X_fm), -1))\n",
        "\n",
        "  X_clusters_fm, kmeans_fm = get_clusters(X_fm, K)\n",
        "\n",
        "  # get the image ids of each cluster\n",
        "  cluster_idx_fm = to_cluster_idx(X_clusters_fm.labels_, range(K))\n",
        "\n",
        "  # keep the cluster centers\n",
        "  print(kmeans_fm.cluster_centers_)\n",
        "  print(cluster_idx_fm)\n",
        "\n",
        "  return X_fm, X_clusters_fm, kmeans_fm"
      ],
      "execution_count": 151,
      "outputs": []
    },
    {
      "cell_type": "code",
      "metadata": {
        "id": "D190mcMp0rLx"
      },
      "source": [
        "import matplotlib.pyplot as plt\n",
        "\n",
        "def plot_data_in_clusters(data, kmeans, idx=None, show_centroids=True):\n",
        "  marker_size = 7\n",
        "\n",
        "  # Plot the decision boundary. For that, we will assign a color to each\n",
        "  x_min, x_max = data[:, 0].min(), data[:, 0].max()\n",
        "  y_min, y_max = data[:, 1].min(), data[:, 1].max()\n",
        "\n",
        "  # Step size of the mesh. Decrease to increase the quality of the VQ.\n",
        "  # point in the mesh [x_min, x_max]x[y_min, y_max].\n",
        "  h = float((x_max - x_min)/100)\n",
        "\n",
        "  PADDING = h * marker_size\n",
        "  x_min, x_max = x_min - PADDING, x_max + PADDING/2\n",
        "  y_min, y_max = y_min - PADDING, y_max + PADDING\n",
        "\n",
        "  xx, yy = np.meshgrid(np.arange(x_min, x_max, h), np.arange(y_min, y_max, h))\n",
        "\n",
        "  # Obtain labels for each point in mesh. Use last trained model.\n",
        "  Z = kmeans.predict(np.c_[xx.ravel(), yy.ravel()])\n",
        "\n",
        "  # Put the result into a color plot\n",
        "  Z = Z.reshape(xx.shape)\n",
        "\n",
        "  plt.figure(2)\n",
        "  # plt.clf()\n",
        "  plt.imshow(Z, interpolation=\"nearest\",\n",
        "              extent=(xx.min(), xx.max(), yy.min(), yy.max()),\n",
        "              cmap=plt.cm.Paired, aspect=\"auto\", origin=\"lower\")\n",
        "\n",
        "  plt.plot(data[:, 0], data[:, 1], 'k.', markersize=marker_size)\n",
        "\n",
        "  if show_centroids:\n",
        "    markers = [\"o\", \"1\"]\n",
        "    # Plot the centroids as a white X\n",
        "    centroids = kmeans.cluster_centers_\n",
        "\n",
        "    for id in range(len(centroids)):\n",
        "      c = centroids[id]\n",
        "      plt.scatter(c[0], c[1], marker=markers[id], s=150, linewidths=marker_size,\n",
        "                  color=\"w\", zorder=10)\n",
        "  if idx:\n",
        "    for id in idx:\n",
        "        plt.scatter(data[id, 0], data[id, 1], marker=\"x\",\n",
        "                    s=150, linewidths=marker_size,\n",
        "                    color=\"w\", zorder=10)\n",
        "\n",
        "  plt.title(\"KMeans clustering\")\n",
        "  plt.xlim(x_min, x_max)\n",
        "  plt.ylim(y_min, y_max)\n",
        "  plt.xticks(())\n",
        "  plt.yticks(())\n",
        "  plt.show()"
      ],
      "execution_count": 152,
      "outputs": []
    },
    {
      "cell_type": "code",
      "metadata": {
        "id": "eB4G8AJF02bi"
      },
      "source": [
        "idx_a_seatbelt = np.where(CLASS_NAMES.index('alert@Seatbelt') == box_labels)\n",
        "idx_a_parking = np.where(CLASS_NAMES.index('alert@Parking') == box_labels)"
      ],
      "execution_count": 153,
      "outputs": []
    },
    {
      "cell_type": "code",
      "metadata": {
        "id": "bA8ai8oU3MkD"
      },
      "source": [
        "box_images[idx_a_seatbelt].shape\n",
        "\n",
        "plot_label_images(box_images[idx_a_seatbelt], box_labels[idx_a_seatbelt])\n",
        "plot_label_images(box_images[idx_a_parking], box_labels[idx_a_parking])"
      ],
      "execution_count": null,
      "outputs": []
    },
    {
      "cell_type": "code",
      "metadata": {
        "id": "nKgenr7CLnZ-",
        "outputId": "3dab20b9-de0f-4f85-fadd-38ee92aabed6",
        "colab": {
          "base_uri": "https://localhost:8080/"
        }
      },
      "source": [
        "to_cluster = np.concatenate((box_images[idx_a_seatbelt], box_images[idx_a_parking]))\n",
        "to_cluster.shape"
      ],
      "execution_count": 155,
      "outputs": [
        {
          "output_type": "execute_result",
          "data": {
            "text/plain": [
              "(135, 600, 600, 3)"
            ]
          },
          "metadata": {},
          "execution_count": 155
        }
      ]
    },
    {
      "cell_type": "code",
      "metadata": {
        "id": "onUVwvMo4Sy4",
        "outputId": "b306c1f2-860d-403b-da98-60546f110d00",
        "colab": {
          "base_uri": "https://localhost:8080/"
        }
      },
      "source": [
        "X_reshaped, X_clusters, kmeans = cluster_images(to_cluster)"
      ],
      "execution_count": 156,
      "outputs": [
        {
          "output_type": "stream",
          "name": "stdout",
          "text": [
            "[[3.45760797e-04 2.25822702e-04 8.96995134e-04 ... 3.35542552e-04\n",
            "  2.04642141e-04 9.52783376e-04]\n",
            " [2.67349539e-04 1.23841473e-04 9.01415701e-04 ... 2.78258335e-04\n",
            "  9.81971136e-05 9.79352094e-04]]\n",
            "{0: array([ 33,  34,  35,  36,  37,  38,  39,  40,  41,  89,  90,  91,  92,\n",
            "        93,  94,  95,  96,  97,  98,  99, 100, 101, 102, 103, 104, 105,\n",
            "       106, 107, 108, 109, 110, 111, 112, 113, 114, 115, 116, 117, 118,\n",
            "       119, 120, 121, 122, 123, 124, 125, 126, 127, 128, 129, 130, 131,\n",
            "       132, 133, 134]), 1: array([ 0,  1,  2,  3,  4,  5,  6,  7,  8,  9, 10, 11, 12, 13, 14, 15, 16,\n",
            "       17, 18, 19, 20, 21, 22, 23, 24, 25, 26, 27, 28, 29, 30, 31, 32, 42,\n",
            "       43, 44, 45, 46, 47, 48, 49, 50, 51, 52, 53, 54, 55, 56, 57, 58, 59,\n",
            "       60, 61, 62, 63, 64, 65, 66, 67, 68, 69, 70, 71, 72, 73, 74, 75, 76,\n",
            "       77, 78, 79, 80, 81, 82, 83, 84, 85, 86, 87, 88])}\n"
          ]
        }
      ]
    },
    {
      "cell_type": "code",
      "metadata": {
        "id": "WsVajLnxzs5X",
        "outputId": "d2ce297c-ad10-4545-9982-263c1786fc97",
        "colab": {
          "base_uri": "https://localhost:8080/",
          "height": 268
        }
      },
      "source": [
        "K = 2\n",
        "\n",
        "# Let's do PCA for visualization\n",
        "X_reduced, pca = get_pca_reduced(X_reshaped, dimensions=K)\n",
        "X_clusters_reduced, kmeans_reduced = get_clusters(X_reduced, K)\n",
        "# plot_data_in_clusters(X_reduced, kmeans=kmeans_reduced, idx=[1])\n",
        "plot_data_in_clusters(X_reduced, kmeans=kmeans_reduced)"
      ],
      "execution_count": 149,
      "outputs": [
        {
          "output_type": "display_data",
          "data": {
            "image/png": "[encoded data removed]",
            "text/plain": [
              "<Figure size 432x288 with 1 Axes>"
            ]
          },
          "metadata": {}
        }
      ]
    },
    {
      "cell_type": "code",
      "metadata": {
        "id": "rMsOs76KLbex",
        "outputId": "e1caa559-a00f-4ee4-fc7e-728109837af3",
        "colab": {
          "base_uri": "https://localhost:8080/"
        }
      },
      "source": [
        "X_reshaped_fm, X_clusters_fm, kmeans_fm = cluster_images_fm(to_cluster)"
      ],
      "execution_count": 157,
      "outputs": [
        {
          "output_type": "stream",
          "name": "stdout",
          "text": [
            "Downloading data from https://storage.googleapis.com/tensorflow/keras-applications/vgg16/vgg16_weights_tf_dim_ordering_tf_kernels_notop.h5\n",
            "58892288/58889256 [==============================] - 0s 0us/step\n",
            "58900480/58889256 [==============================] - 0s 0us/step\n",
            "[[8.5525920e-05 0.0000000e+00 6.2615640e-05 ... 0.0000000e+00\n",
            "  3.5502862e-03 0.0000000e+00]\n",
            " [3.2221211e-05 0.0000000e+00 8.4320011e-05 ... 0.0000000e+00\n",
            "  3.7798276e-03 0.0000000e+00]]\n",
            "{0: array([  0,   1,   2,   3,   4,   5,   6,   7,   8,   9,  10,  11,  12,\n",
            "        13,  14,  15,  16,  17,  18,  19,  20,  21,  22,  23,  24,  25,\n",
            "        26,  27,  28,  29,  30,  31,  32,  33,  34,  35,  36,  37,  38,\n",
            "        39,  40,  41,  42,  43,  44,  45,  46,  47,  48,  49,  50,  51,\n",
            "        52,  53,  54,  55,  56,  57,  58,  59,  60,  61,  62,  63,  64,\n",
            "        65,  66,  67,  68,  69,  70,  71,  72,  73,  74,  75,  76,  77,\n",
            "        78,  79,  80,  81,  82,  83,  84,  85,  86,  87,  88,  89, 101,\n",
            "       112, 113, 114, 134]), 1: array([ 90,  91,  92,  93,  94,  95,  96,  97,  98,  99, 100, 102, 103,\n",
            "       104, 105, 106, 107, 108, 109, 110, 111, 115, 116, 117, 118, 119,\n",
            "       120, 121, 122, 123, 124, 125, 126, 127, 128, 129, 130, 131, 132,\n",
            "       133])}\n"
          ]
        }
      ]
    },
    {
      "cell_type": "code",
      "metadata": {
        "id": "8z9FY8TSMT4Z",
        "outputId": "fbfc32be-289e-41f8-a928-49f7a58ad966",
        "colab": {
          "base_uri": "https://localhost:8080/",
          "height": 268
        }
      },
      "source": [
        "X_reduced_fm, pca_fm = get_pca_reduced(X_reshaped_fm, dimensions=K)\n",
        "X_clusters_reduced_fm, kmeans_reduced_fm = get_clusters(X_reduced, K)\n",
        "# plot_data_in_clusters(X_reduced, kmeans=kmeans_reduced, idx=[1])\n",
        "plot_data_in_clusters(X_reduced_fm, kmeans=kmeans_reduced_fm)"
      ],
      "execution_count": 158,
      "outputs": [
        {
          "output_type": "display_data",
          "data": {
            "image/png": "[encoded data removed]",
            "text/plain": [
              "<Figure size 432x288 with 1 Axes>"
            ]
          },
          "metadata": {}
        }
      ]
    },
    {
      "cell_type": "code",
      "metadata": {
        "id": "1DZ33fOEM66-",
        "outputId": "686196f8-887b-4ff4-bfcd-ba3ec1bb8087",
        "colab": {
          "base_uri": "https://localhost:8080/",
          "height": 268
        }
      },
      "source": [
        "plot_data_in_clusters(X_reduced_fm, kmeans=kmeans_reduced_fm, idx=[112, 113, 114, 134])"
      ],
      "execution_count": 159,
      "outputs": [
        {
          "output_type": "display_data",
          "data": {
            "image/png": "[encoded data removed]",
            "text/plain": [
              "<Figure size 432x288 with 1 Axes>"
            ]
          },
          "metadata": {}
        }
      ]
    },
    {
      "cell_type": "code",
      "metadata": {
        "id": "Vn0Rv3uONV8b"
      },
      "source": [
        "to_cluster_Y = np.concatenate((box_labels[idx_a_seatbelt], box_labels[idx_a_parking]))\n",
        "plot_label_images(to_cluster[112:114], to_cluster_Y[112:114])\n"
      ],
      "execution_count": null,
      "outputs": []
    },
    {
      "cell_type": "code",
      "metadata": {
        "id": "hNVzL7WwN3ER"
      },
      "source": [
        "plot_label_images(to_cluster[85:89], to_cluster_Y[85:89])\n"
      ],
      "execution_count": null,
      "outputs": []
    },
    {
      "cell_type": "code",
      "metadata": {
        "id": "r17RjPqkO-lk"
      },
      "source": [
        "plot_label_images(to_cluster[120:125], to_cluster_Y[120:125])\n"
      ],
      "execution_count": null,
      "outputs": []
    },
    {
      "cell_type": "code",
      "metadata": {
        "id": "F-nXbmsFOIEd"
      },
      "source": [
        "plot_label_images(to_cluster[33:40], to_cluster_Y[33:40])\n",
        "plot_label_images(to_cluster[130:134], to_cluster_Y[130:134])\n"
      ],
      "execution_count": null,
      "outputs": []
    },
    {
      "cell_type": "code",
      "metadata": {
        "id": "snXMMDzbPjPk"
      },
      "source": [
        ""
      ],
      "execution_count": null,
      "outputs": []
    }
  ]
}