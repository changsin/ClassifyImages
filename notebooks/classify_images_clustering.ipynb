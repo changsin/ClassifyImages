{
  "nbformat": 4,
  "nbformat_minor": 0,
  "metadata": {
    "colab": {
      "name": "classify_images_clustering.ipynb",
      "provenance": [],
      "machine_shape": "hm",
      "authorship_tag": "ABX9TyO/59N3/scDU78uhCi8Ph1l",
      "include_colab_link": true
    },
    "kernelspec": {
      "name": "python3",
      "display_name": "Python 3"
    },
    "language_info": {
      "name": "python"
    },
    "accelerator": "GPU"
  },
  "cells": [
    {
      "cell_type": "markdown",
      "metadata": {
        "id": "view-in-github",
        "colab_type": "text"
      },
      "source": [
        "<a href=\"https://colab.research.google.com/github/changsin/ClassifyImages/blob/main/notebooks/classify_images_clustering.ipynb\" target=\"_parent\"><img src=\"https://colab.research.google.com/assets/colab-badge.svg\" alt=\"Open In Colab\"/></a>"
      ]
    },
    {
      "cell_type": "markdown",
      "metadata": {
        "id": "l3IR2E-4bPaO"
      },
      "source": [
        "# Finding duplicates through Clustering and PCA"
      ]
    },
    {
      "cell_type": "code",
      "metadata": {
        "id": "3ERQ_Bchc8JO",
        "colab": {
          "base_uri": "https://localhost:8080/"
        },
        "outputId": "9ac323e5-23f7-46a6-c232-e7acf07de5ec"
      },
      "source": [
        "!git clone https://github.com/changsin/DLTrafficCounter"
      ],
      "execution_count": 1,
      "outputs": [
        {
          "output_type": "stream",
          "text": [
            "Cloning into 'DLTrafficCounter'...\n",
            "remote: Enumerating objects: 277, done.\u001b[K\n",
            "remote: Counting objects: 100% (68/68), done.\u001b[K\n",
            "remote: Compressing objects: 100% (47/47), done.\u001b[K\n",
            "remote: Total 277 (delta 17), reused 66 (delta 15), pack-reused 209\u001b[K\n",
            "Receiving objects: 100% (277/277), 226.60 MiB | 33.30 MiB/s, done.\n",
            "Resolving deltas: 100% (18/18), done.\n",
            "Checking out files: 100% (205/205), done.\n"
          ],
          "name": "stdout"
        }
      ]
    },
    {
      "cell_type": "code",
      "metadata": {
        "id": "8BvpHmD6HhCH"
      },
      "source": [
        "import argparse\n",
        "import glob\n",
        "import os\n",
        "\n",
        "import cv2\n",
        "import numpy as np\n",
        "from keras.applications.vgg16 import VGG16\n",
        "from keras.applications.vgg16 import preprocess_input\n",
        "from scipy.spatial.distance import cdist\n",
        "from sklearn import preprocessing  # to normalise existing X\n",
        "from sklearn.cluster import KMeans\n",
        "from sklearn.decomposition import PCA\n",
        "\n",
        "\"\"\"\n",
        "\"\"\"\n",
        "\n",
        "def glob_files(folder, file_type='*'):\n",
        "    search_string = os.path.join(folder, file_type)\n",
        "    files = glob.glob(search_string)\n",
        "\n",
        "    # print('searching ', path)\n",
        "    paths = []\n",
        "    for f in files:\n",
        "      if os.path.isdir(f):\n",
        "        sub_paths = glob_files(f + '/')\n",
        "        paths += sub_paths\n",
        "      else:\n",
        "        paths.append(f)\n",
        "\n",
        "    # We sort the images in alphabetical order to match them\n",
        "    #  to the annotation files\n",
        "    paths.sort()\n",
        "\n",
        "    return paths\n",
        "\n",
        "def load_images(path, file_type=\"*\"):\n",
        "  files = glob_files(path, file_type)\n",
        "\n",
        "  # print(files)\n",
        "  X_data = []\n",
        "  for file in files:\n",
        "    image = cv2.imread(file)\n",
        "    # reduce image sizes\n",
        "    x = cv2.resize(image, None, fx=0.5, fy=0.5, interpolation=cv2.INTER_AREA)\n",
        "    x = np.expand_dims(x,axis=0)\n",
        "    if len(X_data) > 0:\n",
        "        X_data = np.concatenate((X_data, x))\n",
        "    else:\n",
        "        X_data = x\n",
        "\n",
        "    # X_data.append(image)\n",
        "  X_data = np.array(X_data)\n",
        "  print(\"Loaded {}\".format(X_data.shape))\n",
        "  return X_data\n",
        "\n",
        "def find_duplicates(X_train_pca, threshold=0.1):\n",
        "    # Calculate distances of all points\n",
        "    distances = cdist(X_train_pca, X_train_pca)\n",
        "\n",
        "    # Find duplicates (very similar images)\n",
        "    # dupes = np.array([np.where(distances[id] < 1) for id in range(distances.shape[0])]).reshape(-1)\n",
        "    dupes = [np.array(np.where(distances[id] < threshold)).reshape(-1).tolist() \\\n",
        "            for id in range(distances.shape[0])]\n",
        "\n",
        "    to_remove = set()\n",
        "    for d in dupes:\n",
        "        if len(d) > 1:\n",
        "            for id in range(1, len(d)):\n",
        "                to_remove.add(d[id])\n",
        "    logger.info(\"Found {} duplicates\".format(len(to_remove)))\n",
        "    return to_remove\n",
        "\n",
        "def get_feature_maps(X):\n",
        "    #Convert to VGG input format\n",
        "    X = preprocess_input(X)\n",
        "\n",
        "    #include_top=False == not getting VGG16 last 3 layers\n",
        "    model = VGG16(weights=\"imagenet\", include_top=False)\n",
        "    # model = VGG16(weights = None, include_top=False)\n",
        "    #Get features\n",
        "    features = model.predict(X)\n",
        "    print(features.shape)\n",
        "\n",
        "    return features\n",
        "\n",
        "\n",
        "def get_pca_reduced(X_features, dimensions=2):\n",
        "  X_features_flatten = X_features.reshape(X_features.shape[0], -1)\n",
        "  pca = PCA(dimensions)\n",
        "\n",
        "  X_features_pca_reduced = pca.fit_transform(X_features_flatten)\n",
        "\n",
        "  return X_features_pca_reduced, pca\n",
        "\n",
        "\n",
        "def get_clusters(X_reduced, K):\n",
        "  kmeans = KMeans(n_clusters=K, random_state=0)\n",
        "  X_clusters = kmeans.fit(X_reduced)\n",
        "\n",
        "  return X_clusters, kmeans\n",
        "\n",
        "def to_cluster_idx(cluster_labels, bins):\n",
        "    \"\"\"\n",
        "    param labels: cluster labels\n",
        "    param bins: range of K\n",
        "    returns: dictionary of cluster IDs\n",
        "    \"\"\"\n",
        "    cluster_dict = dict()\n",
        "    for cluster_id in bins:\n",
        "        cluster_dict[cluster_id] = np.where(cluster_labels == cluster_id)[0]\n",
        "    return cluster_dict\n",
        "\n",
        "def cluster_images(folder):\n",
        "    X_data = load_images(folder, \"*.png\")\n",
        "\n",
        "    # get feature maps\n",
        "    X_features = get_feature_maps(X_data)\n",
        "\n",
        "    # normalize\n",
        "    X_fm_normalized = preprocessing.normalize(X_features.reshape(len(X_features), -1))\n",
        "\n",
        "    # dimensionality reduction through PCA\n",
        "    X_reduced, pca = get_pca_reduced(X_fm_normalized, dimensions=2)\n",
        "\n",
        "    return X_reduced, pca"
      ],
      "execution_count": 25,
      "outputs": []
    },
    {
      "cell_type": "code",
      "metadata": {
        "id": "Gip-w1uQ-kcG"
      },
      "source": [
        "def process_image_one_at_a_time(path, file_type=\"*.png\"):\n",
        "    files = glob_files(path, file_type)\n",
        "\n",
        "    fm_reduced = []\n",
        "    for file in files:\n",
        "      print(file)\n",
        "      image = cv2.imread(file)\n",
        "      image = cv2.resize(image, (320, 320))\n",
        "      print(image.shape)\n",
        "      fm = get_feature_maps(np.array([image]))\n",
        "      fm_reduced.append(fm)\n",
        "      # x_reduced = get_pca_reduced(fm, dimensions=2)\n",
        "      # fm_reduced.append(x_reduced)\n",
        "\n",
        "    return np.array(fm_reduced)\n",
        "\n",
        "def cluster_images(folder):\n",
        "    fm_reduced = process_image_one_at_a_time(folder)\n",
        "\n",
        "    return fm_reduced"
      ],
      "execution_count": 26,
      "outputs": []
    },
    {
      "cell_type": "code",
      "metadata": {
        "id": "dx2HCWAA-0V8",
        "outputId": "6ce0d018-bf35-4871-ceac-bb00081c8ae0",
        "colab": {
          "base_uri": "https://localhost:8080/"
        }
      },
      "source": [
        "X_features = cluster_images('/content/DLTrafficCounter/data/bbox_highway/test')"
      ],
      "execution_count": 32,
      "outputs": [
        {
          "output_type": "stream",
          "text": [
            "/content/DLTrafficCounter/data/bbox_highway/test/Suwon_CH02_20200722_1600_WED_9m_RH_highway_TW5_rainy_FHD_096.png\n",
            "(320, 320, 3)\n",
            "(1, 10, 10, 512)\n",
            "/content/DLTrafficCounter/data/bbox_highway/test/Suwon_CH02_20200722_1600_WED_9m_RH_highway_TW5_rainy_FHD_097.png\n",
            "(320, 320, 3)\n",
            "(1, 10, 10, 512)\n",
            "/content/DLTrafficCounter/data/bbox_highway/test/Suwon_CH02_20200722_1600_WED_9m_RH_highway_TW5_rainy_FHD_098.png\n",
            "(320, 320, 3)\n",
            "(1, 10, 10, 512)\n",
            "/content/DLTrafficCounter/data/bbox_highway/test/Suwon_CH02_20200722_1600_WED_9m_RH_highway_TW5_rainy_FHD_099.png\n",
            "(320, 320, 3)\n",
            "(1, 10, 10, 512)\n",
            "/content/DLTrafficCounter/data/bbox_highway/test/Suwon_CH02_20200722_1600_WED_9m_RH_highway_TW5_rainy_FHD_100.png\n",
            "(320, 320, 3)\n",
            "(1, 10, 10, 512)\n"
          ],
          "name": "stdout"
        }
      ]
    },
    {
      "cell_type": "code",
      "metadata": {
        "id": "n8lFJ2yxCG9K",
        "outputId": "a1071928-557c-4c76-a211-b4bb872f0bec",
        "colab": {
          "base_uri": "https://localhost:8080/"
        }
      },
      "source": [
        "X_features.shape"
      ],
      "execution_count": 33,
      "outputs": [
        {
          "output_type": "execute_result",
          "data": {
            "text/plain": [
              "(5, 1, 10, 10, 512)"
            ]
          },
          "metadata": {
            "tags": []
          },
          "execution_count": 33
        }
      ]
    },
    {
      "cell_type": "code",
      "metadata": {
        "id": "WRn4Zin6NZZk",
        "outputId": "eeacf86d-a853-40b3-eb0b-15a0528362b1",
        "colab": {
          "base_uri": "https://localhost:8080/"
        }
      },
      "source": [
        "[i for i in range(2)]"
      ],
      "execution_count": 40,
      "outputs": [
        {
          "output_type": "execute_result",
          "data": {
            "text/plain": [
              "[0, 1]"
            ]
          },
          "metadata": {
            "tags": []
          },
          "execution_count": 40
        }
      ]
    },
    {
      "cell_type": "code",
      "metadata": {
        "id": "NtbSPq7aASdP"
      },
      "source": [
        "# X_reduced = X_reduced.reshape(-1, 1)\n",
        "X_features_flatten = X_features.reshape(X_features.shape[0], -1)\n",
        "\n",
        "X_clusters, kmeans = get_clusters(X_features_flatten, 2)"
      ],
      "execution_count": 34,
      "outputs": []
    },
    {
      "cell_type": "code",
      "metadata": {
        "id": "-uPNEEJ1DWuy",
        "outputId": "4522e55d-0336-45a5-8c81-cba1cda3591a",
        "colab": {
          "base_uri": "https://localhost:8080/"
        }
      },
      "source": [
        "X_clusters.labels_\n"
      ],
      "execution_count": 36,
      "outputs": [
        {
          "output_type": "execute_result",
          "data": {
            "text/plain": [
              "array([1, 1, 0, 0, 0], dtype=int32)"
            ]
          },
          "metadata": {
            "tags": []
          },
          "execution_count": 36
        }
      ]
    },
    {
      "cell_type": "code",
      "metadata": {
        "id": "a1_m4IEyLCfS",
        "outputId": "86df27f1-d19f-48a3-c524-ce17dba1e2a4",
        "colab": {
          "base_uri": "https://localhost:8080/"
        }
      },
      "source": [
        "X_clusters.cluster_centers_.shape"
      ],
      "execution_count": 39,
      "outputs": [
        {
          "output_type": "execute_result",
          "data": {
            "text/plain": [
              "(2, 51200)"
            ]
          },
          "metadata": {
            "tags": []
          },
          "execution_count": 39
        }
      ]
    },
    {
      "cell_type": "code",
      "metadata": {
        "id": "ViDUr5ilHmqM",
        "colab": {
          "base_uri": "https://localhost:8080/"
        },
        "outputId": "0775478f-1e63-49a1-d9e7-1ef388390572"
      },
      "source": [
        "X_reduced, pca = cluster_images('/content/DLTrafficCounter/data/bbox_highway/train')"
      ],
      "execution_count": null,
      "outputs": [
        {
          "output_type": "stream",
          "text": [
            "Loaded (90, 540, 960, 3)\n",
            "(90, 16, 30, 512)\n"
          ],
          "name": "stdout"
        }
      ]
    },
    {
      "cell_type": "code",
      "metadata": {
        "id": "tkDQaq2QKU_9",
        "colab": {
          "base_uri": "https://localhost:8080/"
        },
        "outputId": "d2bb6348-d0b0-466b-952e-cbda4ff2288a"
      },
      "source": [
        "# cluster\n",
        "X_clusters, kmeans = get_clusters(X_reduced, 2)\n",
        "\n",
        "# get the image ids of each cluster\n",
        "cluster_idx = to_cluster_idx(X_clusters.labels_, [0, 1])\n",
        "\n",
        "# keep the cluster centers\n",
        "print(kmeans.cluster_centers_)\n",
        "print(cluster_idx)"
      ],
      "execution_count": null,
      "outputs": [
        {
          "output_type": "stream",
          "text": [
            "[[-4.5856735e-01 -1.6710158e-04]\n",
            " [ 5.0122488e-01  1.8265484e-04]]\n",
            "{0: array([ 2,  3,  4,  5,  6,  7, 14, 15, 16, 17, 18, 19, 26, 27, 28, 29, 30,\n",
            "       31, 37, 38, 39, 40, 41, 42, 49, 50, 51, 52, 53, 54, 61, 62, 63, 64,\n",
            "       65, 66, 73, 74, 75, 76, 77, 78, 85, 86, 87, 88, 89]), 1: array([ 0,  1,  8,  9, 10, 11, 12, 13, 20, 21, 22, 23, 24, 25, 32, 33, 34,\n",
            "       35, 36, 43, 44, 45, 46, 47, 48, 55, 56, 57, 58, 59, 60, 67, 68, 69,\n",
            "       70, 71, 72, 79, 80, 81, 82, 83, 84])}\n"
          ],
          "name": "stdout"
        }
      ]
    },
    {
      "cell_type": "markdown",
      "metadata": {
        "id": "t36OJAp5nWdf"
      },
      "source": [
        "# Plot clusters\n"
      ]
    },
    {
      "cell_type": "code",
      "metadata": {
        "id": "2_ONBvBHDnXr"
      },
      "source": [
        "import matplotlib.pyplot as plt\n",
        "\n",
        "\n",
        "def plot_pca_clusters(X_train_pca, kmeans):\n",
        "    # kmeans, X_train_pca_clusters = get_clusters(X_train_pca)\n",
        "\n",
        "    # Step size of the mesh. Decrease to increase the quality of the VQ.\n",
        "    h = .02     # point in the mesh [x_min, x_max]x[y_min, y_max].\n",
        "\n",
        "    # Plot the decision boundary. For that, we will assign a color to each\n",
        "    x_min, x_max = X_train_pca[:, 0].min() - 1, X_train_pca[:, 0].max() + 1\n",
        "    y_min, y_max = X_train_pca[:, 1].min() - 1, X_train_pca[:, 1].max() + 1\n",
        "    xx, yy = np.meshgrid(np.arange(x_min, x_max, h), np.arange(y_min, y_max, h))\n",
        "\n",
        "    # Obtain labels for each point in mesh. Use last trained model.\n",
        "    Z = kmeans.predict(np.c_[xx.ravel(), yy.ravel()])\n",
        "\n",
        "    # Put the result into a color plot\n",
        "    Z = Z.reshape(xx.shape)\n",
        "\n",
        "    plt.figure(2)\n",
        "    # plt.clf()\n",
        "    plt.imshow(Z, interpolation=\"nearest\",\n",
        "                extent=(xx.min(), xx.max(), yy.min(), yy.max()),\n",
        "                cmap=plt.cm.Paired, aspect=\"auto\", origin=\"lower\")\n",
        "\n",
        "    plt.plot(X_train_pca[:, 0], X_train_pca[:, 1], 'k.', markersize=2)\n",
        "    # Plot the centroids as a white X\n",
        "    centroids = kmeans.cluster_centers_\n",
        "\n",
        "    # markers = [\"o\", \"1\", \"2\", \"3\", \"4\"]\n",
        "    markers = [\"o\", \"1\", \"2\"]\n",
        "    for id in range(len(centroids)):\n",
        "        c = centroids[id]\n",
        "        plt.scatter(c[0], c[1], marker=markers[id], s=169, linewidths=3,\n",
        "                    color=\"w\", zorder=10)\n",
        "\n",
        "    # plt.scatter(centroids[:, 0], centroids[:, 1], marker=\"x\", s=169, linewidths=3,\n",
        "    #             color=\"w\", zorder=10)\n",
        "    # https://matplotlib.org/2.0.2/api/markers_api.html#module-matplotlib.markers\n",
        "    plt.title(\"K-means clustering on the PCA-reduced data\\n\"\n",
        "                \"Centroids 0-o, 1-down, 2-up, 3-left, 4-right tri\")\n",
        "    plt.xlim(x_min, x_max)\n",
        "    plt.ylim(y_min, y_max)\n",
        "    plt.xticks(())\n",
        "    plt.yticks(())\n",
        "    plt.show()"
      ],
      "execution_count": null,
      "outputs": []
    },
    {
      "cell_type": "code",
      "metadata": {
        "colab": {
          "base_uri": "https://localhost:8080/",
          "height": 283
        },
        "id": "BLUl4V4-G2VU",
        "outputId": "f664f5bc-601b-4516-9620-4e5ec5055d8c"
      },
      "source": [
        "plot_pca_clusters(X_reduced, kmeans)"
      ],
      "execution_count": null,
      "outputs": [
        {
          "output_type": "display_data",
          "data": {
            "image/png": "[encoded data removed]",
            "text/plain": [
              "<Figure size 432x288 with 1 Axes>"
            ]
          },
          "metadata": {
            "tags": []
          }
        }
      ]
    },
    {
      "cell_type": "code",
      "metadata": {
        "id": "_q4RrRwxLNIb",
        "colab": {
          "base_uri": "https://localhost:8080/"
        },
        "outputId": "77aa099e-4524-43fd-bcd0-323311854c17"
      },
      "source": [
        "X_clusters.cluster_centers_"
      ],
      "execution_count": null,
      "outputs": [
        {
          "output_type": "execute_result",
          "data": {
            "text/plain": [
              "array([[-4.5856735e-01, -1.6710158e-04],\n",
              "       [ 5.0122488e-01,  1.8265484e-04]], dtype=float32)"
            ]
          },
          "metadata": {
            "tags": []
          },
          "execution_count": 15
        }
      ]
    },
    {
      "cell_type": "code",
      "metadata": {
        "id": "x7tBMvgJLUx-"
      },
      "source": [
        ""
      ],
      "execution_count": null,
      "outputs": []
    }
  ]
}
