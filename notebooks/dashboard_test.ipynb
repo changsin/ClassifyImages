{
  "nbformat": 4,
  "nbformat_minor": 0,
  "metadata": {
    "colab": {
      "name": "dashboard_test.ipynb",
      "provenance": [],
      "toc_visible": true,
      "include_colab_link": true
    },
    "kernelspec": {
      "name": "python3",
      "display_name": "Python 3"
    },
    "language_info": {
      "name": "python"
    }
  },
  "cells": [
    {
      "cell_type": "markdown",
      "metadata": {
        "id": "view-in-github",
        "colab_type": "text"
      },
      "source": [
        "<a href=\"https://colab.research.google.com/github/changsin/ClassifyImages/blob/main/notebooks/dashboard_test.ipynb\" target=\"_parent\"><img src=\"https://colab.research.google.com/assets/colab-badge.svg\" alt=\"Open In Colab\"/></a>"
      ]
    },
    {
      "cell_type": "markdown",
      "metadata": {
        "id": "5k1VkTfX5q7J"
      },
      "source": [
        "# Car Dashboard EDA\n",
        "Below is a quick-and-dirty way of doing EDA over car dashboard image datasets. On a car dashboard, there are many sensor indicators: seatbelt, engine, tire pressure, etc. The goal of the project is to train a model that detects these indicators by class type.\n"
      ]
    },
    {
      "cell_type": "markdown",
      "metadata": {
        "id": "ChobJDUp8U45"
      },
      "source": [
        "\n",
        "## Problem Statement\n",
        "The challenge is that due to the angle and lighting conditions, a lot of the images have reflections which prevent recognizing the target objects. To overcome the problem, an attempt was made to categorize the images according to visibilities (0 being the worst, 1 & 2 are better qualities) and train the model only using 1 & 2 visibility data. The preliminary result seems promising, but then we found that not all classes show improvement. There are certain classes whose performance degraded after 0 visibility images are removed.\n",
        "\n",
        "Here is the analysis over the dataset to explore the problems in more detail."
      ]
    },
    {
      "cell_type": "code",
      "metadata": {
        "id": "HmnV0frI5pdz"
      },
      "source": [
        "import numpy as np\n",
        "import matplotlib.pyplot as plt"
      ],
      "execution_count": null,
      "outputs": []
    },
    {
      "cell_type": "code",
      "metadata": {
        "id": "69gLggcU5peA"
      },
      "source": [
        "DATA_ROOT = 'C:\\\\Users\\\\ChangsinLee\\\\SkNetworks_CarDashboard_21036\\\\01.rawData\\\\2\\\\BMW\\\\'"
      ],
      "execution_count": null,
      "outputs": []
    },
    {
      "cell_type": "markdown",
      "metadata": {
        "id": "9-9HTMs28GNI"
      },
      "source": [
        "# Load labels by parsing xmls\n",
        "For analysis, we just need y data (labels)."
      ]
    },
    {
      "cell_type": "code",
      "metadata": {
        "id": "SIP6gnPm5pd9"
      },
      "source": [
        "import glob\n",
        "import os\n",
        "\n",
        "def glob_files(folder, file_type='*'):\n",
        "    search_string = os.path.join(folder, file_type)\n",
        "    files = glob.glob(search_string)\n",
        "\n",
        "    print('Searching ', search_string)\n",
        "    paths = []\n",
        "    for f in files:\n",
        "      if os.path.isdir(f):\n",
        "        sub_paths = glob_files(f + '/')\n",
        "        paths += sub_paths\n",
        "      else:\n",
        "        paths.append(f)\n",
        "\n",
        "    # We sort the images in alphabetical order to match them\n",
        "    #  to the annotation files\n",
        "    paths.sort()\n",
        "\n",
        "    return paths\n",
        "\n",
        "def glob_folders(folder, file_type='*'):\n",
        "    search_string = os.path.join(folder, file_type)\n",
        "    files = glob.glob(search_string)\n",
        "\n",
        "    print('Searching ', search_string)\n",
        "    paths = []\n",
        "    for f in files:\n",
        "      if os.path.isdir(f):\n",
        "        paths.append(f)\n",
        "\n",
        "    # We sort the images in alphabetical order to match them\n",
        "    #  to the annotation files\n",
        "    paths.sort()\n",
        "\n",
        "    return paths"
      ],
      "execution_count": null,
      "outputs": []
    },
    {
      "cell_type": "code",
      "metadata": {
        "id": "B21AcSym5peB"
      },
      "source": [
        "from lxml import etree\n",
        "\n",
        "def parse_xml(filename):\n",
        "    image_labels = []\n",
        "\n",
        "    tree = etree.parse(filename)\n",
        "    for image in tree.xpath('image'):\n",
        "        # print(image.attrib['name'])\n",
        "        name = image.attrib['name']\n",
        "        width = int(image.attrib['width'])\n",
        "        height = int(image.attrib['height'])\n",
        "\n",
        "        boxes = []\n",
        "\n",
        "        for box in image.xpath('box'):\n",
        "            xtl = float(box.attrib['xtl'])\n",
        "            ytl = float(box.attrib['ytl'])\n",
        "            xbr = float(box.attrib['xbr'])\n",
        "            ybr = float(box.attrib['ybr'])\n",
        "\n",
        "            alertwarning = box.attrib['label']\n",
        "            wtype = box.xpath('attribute[@name=\"name\"]')[0].text\n",
        "            daynight = box.xpath('attribute[@name=\"daynight\"]')[0].text\n",
        "            visibility = int(box.xpath('attribute[@name=\"visibility\"]')[0].text)\n",
        "\n",
        "            box = wtype, alertwarning, daynight, visibility, xtl, ytl, xbr, ybr\n",
        "\n",
        "            boxes.append(box)\n",
        "\n",
        "        image_labels.append([name, width, height, np.array(boxes)])\n",
        "\n",
        "    return np.array(image_labels)\n"
      ],
      "execution_count": null,
      "outputs": []
    },
    {
      "cell_type": "code",
      "metadata": {
        "id": "ipNb9fs75peD",
        "outputId": "8ca54e0d-df37-4837-e94e-46bd8a1c285e"
      },
      "source": [
        "def load_labels(path, file_type='*'):\n",
        "    files = glob_files(path, file_type=file_type)\n",
        "    print(files)\n",
        "\n",
        "    y = []\n",
        "    dfy = []\n",
        "\n",
        "    for file in files:\n",
        "        labels = parse_xml(file)\n",
        "        y.append([os.path.basename(file), labels])\n",
        "        for label in labels:\n",
        "            filename = label[0]\n",
        "            width = label[1]\n",
        "            height = label[2]\n",
        "            boxes = label[3]\n",
        "            for box in boxes:\n",
        "                wtype = box[0]\n",
        "                alertwarning = box[1]\n",
        "                day = box[2]\n",
        "                visibility = box[3]\n",
        "\n",
        "                xtl = box[4]\n",
        "                ytl = box[5]\n",
        "                xbr = box[6]\n",
        "                ybr = box[7]\n",
        "\n",
        "            # print(label)\n",
        "                dfy.append([os.path.basename(file), filename, width, height, wtype, alertwarning, day, visibility, xtl, ytl, xbr, ybr])\n",
        "    \n",
        "    return np.array(y), np.array(dfy)\n",
        "\n",
        "y, dfyy = load_labels(DATA_ROOT, file_type='*.xml')\n",
        "y.shape\n",
        "# image_labels = parse_xml('C:\\\\Users\\\\ChangsinLee\\\\SkNetworks_CarDashboard_21036\\\\01.rawData\\\\2차\\\\BMW\\\\BMW_day_0_1.xml')\n",
        "# image_labels"
      ],
      "execution_count": null,
      "outputs": [
        {
          "output_type": "stream",
          "name": "stdout",
          "text": [
            "Searching  C:\\Users\\ChangsinLee\\SkNetworks_CarDashboard_21036\\01.rawData\\2차\\BMW\\*.xml\n",
            "['C:\\\\Users\\\\ChangsinLee\\\\SkNetworks_CarDashboard_21036\\\\01.rawData\\\\2차\\\\BMW\\\\BMW_day_0_1.xml', 'C:\\\\Users\\\\ChangsinLee\\\\SkNetworks_CarDashboard_21036\\\\01.rawData\\\\2차\\\\BMW\\\\BMW_day_0_2.xml', 'C:\\\\Users\\\\ChangsinLee\\\\SkNetworks_CarDashboard_21036\\\\01.rawData\\\\2차\\\\BMW\\\\BMW_day_0_3.xml', 'C:\\\\Users\\\\ChangsinLee\\\\SkNetworks_CarDashboard_21036\\\\01.rawData\\\\2차\\\\BMW\\\\BMW_day_0_4.xml', 'C:\\\\Users\\\\ChangsinLee\\\\SkNetworks_CarDashboard_21036\\\\01.rawData\\\\2차\\\\BMW\\\\BMW_day_1_1.xml', 'C:\\\\Users\\\\ChangsinLee\\\\SkNetworks_CarDashboard_21036\\\\01.rawData\\\\2차\\\\BMW\\\\BMW_day_1_2.xml', 'C:\\\\Users\\\\ChangsinLee\\\\SkNetworks_CarDashboard_21036\\\\01.rawData\\\\2차\\\\BMW\\\\BMW_day_1_3.xml', 'C:\\\\Users\\\\ChangsinLee\\\\SkNetworks_CarDashboard_21036\\\\01.rawData\\\\2차\\\\BMW\\\\BMW_day_2_1.xml', 'C:\\\\Users\\\\ChangsinLee\\\\SkNetworks_CarDashboard_21036\\\\01.rawData\\\\2차\\\\BMW\\\\BMW_day_2_2.xml', 'C:\\\\Users\\\\ChangsinLee\\\\SkNetworks_CarDashboard_21036\\\\01.rawData\\\\2차\\\\BMW\\\\BMW_day_2_3.xml', 'C:\\\\Users\\\\ChangsinLee\\\\SkNetworks_CarDashboard_21036\\\\01.rawData\\\\2차\\\\BMW\\\\BMW_day_2_4.xml', 'C:\\\\Users\\\\ChangsinLee\\\\SkNetworks_CarDashboard_21036\\\\01.rawData\\\\2차\\\\BMW\\\\BMW_night_0_1.xml', 'C:\\\\Users\\\\ChangsinLee\\\\SkNetworks_CarDashboard_21036\\\\01.rawData\\\\2차\\\\BMW\\\\BMW_night_0_2.xml', 'C:\\\\Users\\\\ChangsinLee\\\\SkNetworks_CarDashboard_21036\\\\01.rawData\\\\2차\\\\BMW\\\\BMW_night_0_3.xml', 'C:\\\\Users\\\\ChangsinLee\\\\SkNetworks_CarDashboard_21036\\\\01.rawData\\\\2차\\\\BMW\\\\BMW_night_1_1.xml', 'C:\\\\Users\\\\ChangsinLee\\\\SkNetworks_CarDashboard_21036\\\\01.rawData\\\\2차\\\\BMW\\\\BMW_night_1_2.xml', 'C:\\\\Users\\\\ChangsinLee\\\\SkNetworks_CarDashboard_21036\\\\01.rawData\\\\2차\\\\BMW\\\\BMW_night_1_3.xml', 'C:\\\\Users\\\\ChangsinLee\\\\SkNetworks_CarDashboard_21036\\\\01.rawData\\\\2차\\\\BMW\\\\BMW_night_2_1.xml', 'C:\\\\Users\\\\ChangsinLee\\\\SkNetworks_CarDashboard_21036\\\\01.rawData\\\\2차\\\\BMW\\\\BMW_night_2_2.xml', 'C:\\\\Users\\\\ChangsinLee\\\\SkNetworks_CarDashboard_21036\\\\01.rawData\\\\2차\\\\BMW\\\\BMW_night_2_3.xml']\n"
          ]
        },
        {
          "output_type": "stream",
          "name": "stderr",
          "text": [
            "C:\\Users\\CHANGS~1\\AppData\\Local\\Temp/ipykernel_46860/1285046348.py:32: VisibleDeprecationWarning: Creating an ndarray from ragged nested sequences (which is a list-or-tuple of lists-or-tuples-or ndarrays with different lengths or shapes) is deprecated. If you meant to do this, you must specify 'dtype=object' when creating the ndarray.\n",
            "  return np.array(image_labels)\n",
            "C:\\Users\\CHANGS~1\\AppData\\Local\\Temp/ipykernel_46860/1952157694.py:30: VisibleDeprecationWarning: Creating an ndarray from ragged nested sequences (which is a list-or-tuple of lists-or-tuples-or ndarrays with different lengths or shapes) is deprecated. If you meant to do this, you must specify 'dtype=object' when creating the ndarray.\n",
            "  return np.array(y), np.array(dfy)\n"
          ]
        },
        {
          "output_type": "execute_result",
          "data": {
            "text/plain": [
              "(20, 2)"
            ]
          },
          "metadata": {},
          "execution_count": 6
        }
      ]
    },
    {
      "cell_type": "code",
      "metadata": {
        "id": "krJyotId5peH"
      },
      "source": [
        "def extract_labels(y):\n",
        "    labels = []\n",
        "    for a in y:\n",
        "        # print(a.shape)  [0][:, 4:7]\n",
        "        for b in a[1][:, 3]:\n",
        "            for c in b:\n",
        "                labels.append(c)\n",
        "    return np.array(labels)\n",
        "\n",
        "labels = extract_labels(y)"
      ],
      "execution_count": null,
      "outputs": []
    },
    {
      "cell_type": "markdown",
      "metadata": {
        "id": "FUdax0OA8cGL"
      },
      "source": [
        "# EDA using Pandas\n",
        "\n",
        "To make queries easy, turning the labels data to pandas dataframe."
      ]
    },
    {
      "cell_type": "code",
      "metadata": {
        "id": "N0XFeMdW5peI",
        "outputId": "af484d9e-04b4-4563-f5f1-1dbdcd70ccf0"
      },
      "source": [
        "import pandas as pd\n",
        "\n",
        "dfy = pd.DataFrame.from_records(dfyy)\n",
        "dfy.head()\n",
        "\n",
        "\n",
        "dfy.columns = ['folder', 'filename', 'width', 'height', 'class', 'alertwarning', 'daynight', 'visibility', 'xtl', 'ytl', 'xbr', 'ybr']\n",
        "dfy.head()\n",
        "\n",
        "dfy.drop(['filename', 'width', 'height', 'xtl', 'ytl', 'xbr', 'ybr'], inplace=True, axis=1)\n",
        "dfy.head()"
      ],
      "execution_count": null,
      "outputs": [
        {
          "output_type": "execute_result",
          "data": {
            "text/plain": [
              "            folder         class alertwarning daynight visibility\n",
              "0  BMW_day_0_1.xml  StabilityOff      warning      day          1\n",
              "1  BMW_day_0_1.xml   StabilityOn      warning      day          1\n",
              "2  BMW_day_0_1.xml          Tire      warning      day          0\n",
              "3  BMW_day_0_1.xml         Brake        alert      day          0\n",
              "4  BMW_day_0_1.xml         Brake        alert      day          0"
            ],
            "text/html": [
              "<div>\n",
              "<style scoped>\n",
              "    .dataframe tbody tr th:only-of-type {\n",
              "        vertical-align: middle;\n",
              "    }\n",
              "\n",
              "    .dataframe tbody tr th {\n",
              "        vertical-align: top;\n",
              "    }\n",
              "\n",
              "    .dataframe thead th {\n",
              "        text-align: right;\n",
              "    }\n",
              "</style>\n",
              "<table border=\"1\" class=\"dataframe\">\n",
              "  <thead>\n",
              "    <tr style=\"text-align: right;\">\n",
              "      <th></th>\n",
              "      <th>folder</th>\n",
              "      <th>class</th>\n",
              "      <th>alertwarning</th>\n",
              "      <th>daynight</th>\n",
              "      <th>visibility</th>\n",
              "    </tr>\n",
              "  </thead>\n",
              "  <tbody>\n",
              "    <tr>\n",
              "      <th>0</th>\n",
              "      <td>BMW_day_0_1.xml</td>\n",
              "      <td>StabilityOff</td>\n",
              "      <td>warning</td>\n",
              "      <td>day</td>\n",
              "      <td>1</td>\n",
              "    </tr>\n",
              "    <tr>\n",
              "      <th>1</th>\n",
              "      <td>BMW_day_0_1.xml</td>\n",
              "      <td>StabilityOn</td>\n",
              "      <td>warning</td>\n",
              "      <td>day</td>\n",
              "      <td>1</td>\n",
              "    </tr>\n",
              "    <tr>\n",
              "      <th>2</th>\n",
              "      <td>BMW_day_0_1.xml</td>\n",
              "      <td>Tire</td>\n",
              "      <td>warning</td>\n",
              "      <td>day</td>\n",
              "      <td>0</td>\n",
              "    </tr>\n",
              "    <tr>\n",
              "      <th>3</th>\n",
              "      <td>BMW_day_0_1.xml</td>\n",
              "      <td>Brake</td>\n",
              "      <td>alert</td>\n",
              "      <td>day</td>\n",
              "      <td>0</td>\n",
              "    </tr>\n",
              "    <tr>\n",
              "      <th>4</th>\n",
              "      <td>BMW_day_0_1.xml</td>\n",
              "      <td>Brake</td>\n",
              "      <td>alert</td>\n",
              "      <td>day</td>\n",
              "      <td>0</td>\n",
              "    </tr>\n",
              "  </tbody>\n",
              "</table>\n",
              "</div>"
            ]
          },
          "metadata": {},
          "execution_count": 10
        }
      ]
    },
    {
      "cell_type": "code",
      "metadata": {
        "id": "x8SrLOhS5peK",
        "outputId": "c38a4560-e6aa-46d2-fe63-267c0e4dbcf4"
      },
      "source": [
        "\n",
        "for i in range(len(dfy)):\n",
        "    # print(dfy.loc[i]['category'])\n",
        "    dfy.loc[i]['folder'] = dfy.loc[i]['folder'][-7]\n",
        "    dfy.loc[i]['class'] = dfy.loc[i]['alertwarning'] + '@' + dfy.loc[i]['class']\n",
        "\n",
        "dfy.drop('alertwarning', inplace=True, axis=1)\n",
        "dfy.head()\n",
        "# dfy.loc[0]['category'][-7]\n",
        "\n"
      ],
      "execution_count": null,
      "outputs": [
        {
          "output_type": "execute_result",
          "data": {
            "text/plain": [
              "  folder                 class daynight visibility\n",
              "0      0  warning@StabilityOff      day          1\n",
              "1      0   warning@StabilityOn      day          1\n",
              "2      0          warning@Tire      day          0\n",
              "3      0           alert@Brake      day          0\n",
              "4      0           alert@Brake      day          0"
            ],
            "text/html": [
              "<div>\n",
              "<style scoped>\n",
              "    .dataframe tbody tr th:only-of-type {\n",
              "        vertical-align: middle;\n",
              "    }\n",
              "\n",
              "    .dataframe tbody tr th {\n",
              "        vertical-align: top;\n",
              "    }\n",
              "\n",
              "    .dataframe thead th {\n",
              "        text-align: right;\n",
              "    }\n",
              "</style>\n",
              "<table border=\"1\" class=\"dataframe\">\n",
              "  <thead>\n",
              "    <tr style=\"text-align: right;\">\n",
              "      <th></th>\n",
              "      <th>folder</th>\n",
              "      <th>class</th>\n",
              "      <th>daynight</th>\n",
              "      <th>visibility</th>\n",
              "    </tr>\n",
              "  </thead>\n",
              "  <tbody>\n",
              "    <tr>\n",
              "      <th>0</th>\n",
              "      <td>0</td>\n",
              "      <td>warning@StabilityOff</td>\n",
              "      <td>day</td>\n",
              "      <td>1</td>\n",
              "    </tr>\n",
              "    <tr>\n",
              "      <th>1</th>\n",
              "      <td>0</td>\n",
              "      <td>warning@StabilityOn</td>\n",
              "      <td>day</td>\n",
              "      <td>1</td>\n",
              "    </tr>\n",
              "    <tr>\n",
              "      <th>2</th>\n",
              "      <td>0</td>\n",
              "      <td>warning@Tire</td>\n",
              "      <td>day</td>\n",
              "      <td>0</td>\n",
              "    </tr>\n",
              "    <tr>\n",
              "      <th>3</th>\n",
              "      <td>0</td>\n",
              "      <td>alert@Brake</td>\n",
              "      <td>day</td>\n",
              "      <td>0</td>\n",
              "    </tr>\n",
              "    <tr>\n",
              "      <th>4</th>\n",
              "      <td>0</td>\n",
              "      <td>alert@Brake</td>\n",
              "      <td>day</td>\n",
              "      <td>0</td>\n",
              "    </tr>\n",
              "  </tbody>\n",
              "</table>\n",
              "</div>"
            ]
          },
          "metadata": {},
          "execution_count": 11
        }
      ]
    },
    {
      "cell_type": "code",
      "metadata": {
        "id": "pDbLKgxp5peL",
        "outputId": "a0c18bed-6d00-49b6-acb1-80acbd2368c5"
      },
      "source": [
        "dfy['daynight'] = pd.Categorical(dfy['daynight']).codes\n",
        "\n",
        "# dfy['alertwarning'] = pd.Categorical(dfy['alertwarning']).codes\n",
        "\n",
        "# reorder the columns\n",
        "dfy = dfy[['class', 'daynight', 'folder', 'visibility']]\n",
        "\n",
        "dfy.tail()\n"
      ],
      "execution_count": null,
      "outputs": [
        {
          "output_type": "execute_result",
          "data": {
            "text/plain": [
              "               class  daynight folder visibility\n",
              "6203  warning@Engine         1      2          2\n",
              "6204  alert@Seatbelt         1      2          2\n",
              "6205  warning@Engine         1      2          1\n",
              "6206     alert@Brake         1      2          0\n",
              "6207  alert@Seatbelt         1      2          0"
            ],
            "text/html": [
              "<div>\n",
              "<style scoped>\n",
              "    .dataframe tbody tr th:only-of-type {\n",
              "        vertical-align: middle;\n",
              "    }\n",
              "\n",
              "    .dataframe tbody tr th {\n",
              "        vertical-align: top;\n",
              "    }\n",
              "\n",
              "    .dataframe thead th {\n",
              "        text-align: right;\n",
              "    }\n",
              "</style>\n",
              "<table border=\"1\" class=\"dataframe\">\n",
              "  <thead>\n",
              "    <tr style=\"text-align: right;\">\n",
              "      <th></th>\n",
              "      <th>class</th>\n",
              "      <th>daynight</th>\n",
              "      <th>folder</th>\n",
              "      <th>visibility</th>\n",
              "    </tr>\n",
              "  </thead>\n",
              "  <tbody>\n",
              "    <tr>\n",
              "      <th>6203</th>\n",
              "      <td>warning@Engine</td>\n",
              "      <td>1</td>\n",
              "      <td>2</td>\n",
              "      <td>2</td>\n",
              "    </tr>\n",
              "    <tr>\n",
              "      <th>6204</th>\n",
              "      <td>alert@Seatbelt</td>\n",
              "      <td>1</td>\n",
              "      <td>2</td>\n",
              "      <td>2</td>\n",
              "    </tr>\n",
              "    <tr>\n",
              "      <th>6205</th>\n",
              "      <td>warning@Engine</td>\n",
              "      <td>1</td>\n",
              "      <td>2</td>\n",
              "      <td>1</td>\n",
              "    </tr>\n",
              "    <tr>\n",
              "      <th>6206</th>\n",
              "      <td>alert@Brake</td>\n",
              "      <td>1</td>\n",
              "      <td>2</td>\n",
              "      <td>0</td>\n",
              "    </tr>\n",
              "    <tr>\n",
              "      <th>6207</th>\n",
              "      <td>alert@Seatbelt</td>\n",
              "      <td>1</td>\n",
              "      <td>2</td>\n",
              "      <td>0</td>\n",
              "    </tr>\n",
              "  </tbody>\n",
              "</table>\n",
              "</div>"
            ]
          },
          "metadata": {},
          "execution_count": 12
        }
      ]
    },
    {
      "cell_type": "code",
      "metadata": {
        "id": "T-TUUCPT5peM",
        "outputId": "6b08796b-83da-4075-b13f-fb73392c8960"
      },
      "source": [
        "names = pd.unique(dfy['class'])\n",
        "print(\"\\tclass\\tzero-object-ratio\\t0-in-f0-ratio\\tnon-f0-ratio\")\n",
        "for name in names:\n",
        "    dfys = dfy[dfy['class'] == name]\n",
        "\n",
        "    # dfyw = dfy[dfy['class'] == name]\n",
        "\n",
        "    total = len(dfys)\n",
        "    total_zeros = len(dfys[dfys['visibility'] == '0'])\n",
        "    # total objects in zero folder - there could more 1 or 2 visibility objects too\n",
        "    zero_f_total = len(dfys[dfys['folder'] == '0'])\n",
        "\n",
        "    df_fzeros = dfys[dfys['folder'] == '0']\n",
        "    # pure zero visibility objects in zero folder\n",
        "    zeros_in_zero_f = len(df_fzeros[df_fzeros['visibility'] == '0'])\n",
        "    print(\"{}\\t{} ({}/{})\\t{} ({}/{})\\t{} ({}/{})\".format(\n",
        "        name, round(total_zeros/total, 2), total_zeros, total,\n",
        "            round(zeros_in_zero_f/zero_f_total, 2) if zero_f_total != 0 else 0, zeros_in_zero_f, zero_f_total,\n",
        "            round((total_zeros - zeros_in_zero_f)/total_zeros, 2), total_zeros - zeros_in_zero_f, total_zeros))\n"
      ],
      "execution_count": null,
      "outputs": [
        {
          "output_type": "stream",
          "name": "stdout",
          "text": [
            "\tclass\tzero-object-ratio\t0-in-f0-ratio\tnon-f0-ratio\n",
            "warning@StabilityOff\t0.33 (207/622)\t0.56 (132/234)\t0.36 (75/207)\n",
            "warning@StabilityOn\t0.34 (205/607)\t0.5 (117/233)\t0.43 (88/205)\n",
            "warning@Tire\t0.39 (255/651)\t0.59 (160/273)\t0.37 (95/255)\n",
            "alert@Brake\t0.44 (291/657)\t0.9 (124/138)\t0.57 (167/291)\n",
            "alert@Seatbelt\t0.47 (432/914)\t0.65 (134/206)\t0.69 (298/432)\n",
            "warning@Steering\t0.52 (213/410)\t0.92 (109/119)\t0.49 (104/213)\n",
            "warning@Brake\t0.28 (120/427)\t0.41 (80/193)\t0.33 (40/120)\n",
            "warning@Engine\t0.45 (483/1079)\t0.68 (225/333)\t0.53 (258/483)\n",
            "alert@Retaining\t0.4 (94/233)\t0.69 (11/16)\t0.88 (83/94)\n",
            "warning@ABS\t0.45 (141/314)\t0.39 (47/121)\t0.67 (94/141)\n",
            "warning@CentralMonitoring\t0.53 (28/53)\t1.0 (5/5)\t0.82 (23/28)\n",
            "alert@EngineOilTemp\t0.62 (147/239)\t0.82 (62/76)\t0.58 (85/147)\n",
            "warning@EPC\t0.5 (1/2)\t0 (0/0)\t1.0 (1/1)\n"
          ]
        }
      ]
    },
    {
      "cell_type": "markdown",
      "metadata": {
        "id": "DdlT26oB81nr"
      },
      "source": [
        "# Load and plot images\n",
        "To take a peek at the images"
      ]
    },
    {
      "cell_type": "code",
      "metadata": {
        "id": "EX4T3QI65peN"
      },
      "source": [
        "path = DATA_ROOT + 'BMW_day_0_1'\n",
        "\n",
        "import cv2\n",
        "\n",
        "IMAGE_SIZE = 320\n",
        "\n",
        "def load_images(path, file_type=\"*\"):\n",
        "    files = glob_files(path, file_type)\n",
        "\n",
        "    images = []\n",
        "    for file in files:\n",
        "        print(file)\n",
        "        image = cv2.imread(file)\n",
        "        if image is not None:\n",
        "            # image = cv2.resize(image, (IMAGE_SIZE, IMAGE_SIZE))\n",
        "            # normalize\n",
        "            # image = image / 255\n",
        "            images.append(image)\n",
        "        else:\n",
        "            print(file, ' is not an image file')\n",
        "\n",
        "    return np.array(images)\n",
        "\n",
        "def plot_images(X, idx=None, limit=20):\n",
        "  fig = plt.figure(figsize=(20,20))\n",
        "\n",
        "  # The number of images for plotting is limited to 50\n",
        "  end_id = len(X) if len(X) < limit else limit\n",
        "  if idx is None:\n",
        "    idx = range(0, end_id)\n",
        "\n",
        "  i = 0\n",
        "  for id in idx:\n",
        "    axis = fig.add_subplot(5, 4, i+1)\n",
        "    plt.axis('off')\n",
        "    image = X[id]\n",
        "    plt.imshow(image)\n",
        "    i += 1\n"
      ],
      "execution_count": null,
      "outputs": []
    },
    {
      "cell_type": "code",
      "metadata": {
        "id": "H0tExUrR5peP"
      },
      "source": [
        "def load_Xy(path, file_type='*'):\n",
        "    files = glob_files(path, file_type=file_type)\n",
        "    print(files)\n",
        "\n",
        "    y = []\n",
        "\n",
        "    X = []\n",
        "\n",
        "    for file in files:\n",
        "        labels = parse_xml(file)\n",
        "        # y.append([os.path.basename(file), labels])\n",
        "        for label in labels:\n",
        "            filename = label[0]\n",
        "\n",
        "            image_filename = os.path.join(file[:-4], filename)\n",
        "            # print(image_filename)\n",
        "            X.append(cv2.imread(image_filename))\n",
        "\n",
        "            width = label[1]\n",
        "            height = label[2]\n",
        "            boxes = label[3]\n",
        "\n",
        "            y.append([filename, width, height, boxes])\n",
        "    return np.array(X), np.array(y)"
      ],
      "execution_count": null,
      "outputs": []
    },
    {
      "cell_type": "code",
      "metadata": {
        "id": "hygLqQN-5peQ"
      },
      "source": [
        "import matplotlib.patches as patches\n",
        "\n",
        "COLORS = [(0, 255/255, 0), (255/255, 255/255, 0), (255/255, 0, 0)]\n",
        "\n",
        "def create_patch_rectangle(y, color):\n",
        "  width = int(y[2] - y[0])\n",
        "  height = int(y[3] - y[1])\n",
        "  return patches.Rectangle((y[0], y[1]),\n",
        "                           width, height,\n",
        "                           edgecolor=color, fill=False)\n",
        "\n",
        "def plot_image(image, boxes, axis):\n",
        "  for box in boxes:\n",
        "    class_id = int(box[0])\n",
        "    rect = create_patch_rectangle(box[1:], COLORS[class_id])\n",
        "    axis.add_patch(rect)\n",
        "\n",
        "  plt.imshow(image)\n",
        "\n",
        "def plot_images_with_boxes(X, y, idx=None, limit=20):\n",
        "  fig = plt.figure(figsize=(150, 150))\n",
        "\n",
        "  # The number of images for plotting is limited to 50\n",
        "  end_id = len(X) if len(X) < limit else limit\n",
        "  if idx is None:\n",
        "    idx = range(0, end_id)\n",
        "\n",
        "  i = 0\n",
        "  for id in idx:\n",
        "    boxes = y[id][3][:, 3:9]\n",
        "    npboxes = []\n",
        "    for a in boxes:\n",
        "      npboxes.append([int(float(i)) for i in a])\n",
        "    boxes = np.array(npboxes)\n",
        "    # print(npboxes)\n",
        "    # break\n",
        "    axis = fig.add_subplot(5, 5, i+1)\n",
        "    # plt.axis('off')\n",
        "    # image = X[id]\n",
        "    # plt.imshow(image)\n",
        "    axis.get_xaxis().set_visible(False)\n",
        "    axis.get_yaxis().set_visible(False)\n",
        "    plot_image(X[id], boxes, axis)\n",
        "    i += 1"
      ],
      "execution_count": null,
      "outputs": []
    },
    {
      "cell_type": "code",
      "metadata": {
        "id": "NToDjIV-5peR"
      },
      "source": [
        "# images = load_images(path)\n",
        "X, y = load_Xy(DATA_ROOT, file_type='BMW_day_2_3*.xml')\n",
        "\n",
        "plot_images_with_boxes(X, y, idx=[50], limit=1)"
      ],
      "execution_count": null,
      "outputs": []
    },
    {
      "cell_type": "code",
      "metadata": {
        "id": "uxa_FYUR5peR"
      },
      "source": [
        ""
      ],
      "execution_count": null,
      "outputs": []
    }
  ]
}
